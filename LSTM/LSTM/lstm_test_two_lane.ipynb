{
 "cells": [
  {
   "cell_type": "code",
   "execution_count": 1,
   "metadata": {},
   "outputs": [],
   "source": [
    "import json\n",
    "import matplotlib.pyplot as plt\n",
    "# Tusimple Dataset Management Tool\n",
    "class Tusimple_Manager(object):\n",
    "    # initialize\n",
    "    def __init__(self, root_dir = '/home/sun/tusimple'):\n",
    "        # train data root path\n",
    "        self.train_path = root_dir + '/train_set/'\n",
    "        # test data root path\n",
    "        self.test_path = root_dir + '/test_set/'\n",
    "        # train data annotation files\n",
    "        self.train_label_files = ['label_data_0313.json' , 'label_data_0531.json' , 'label_data_0601.json']\n",
    "        # test data annotation files\n",
    "        self.test_label_files = ['test_label.json']\n",
    "\n",
    "        # train annotation data\n",
    "        self.train_data = []\n",
    "        # train data size\n",
    "        self.train_size = 0\n",
    "        # test annotation data\n",
    "        self.test_data = []\n",
    "        # test data size\n",
    "        self.test_size = 0\n",
    "\n",
    "        # number of train_instance 1\n",
    "        self.train_instance_1 = []\n",
    "        # number of train_instance 2\n",
    "        self.train_instance_2 = []\n",
    "        # number of train_instance 3\n",
    "        self.train_instance_3 = []\n",
    "        # number of train_instance 4\n",
    "        self.train_instance_4 = []\n",
    "        # number of train_instance 5\n",
    "        self.train_instance_5 = []\n",
    "        # number of train_instance 6\n",
    "        self.train_instance_6 = []\n",
    "\n",
    "\n",
    "        # number of test_instance 1\n",
    "        self.test_instance_1 = []\n",
    "        # number of test_instance 2\n",
    "        self.test_instance_2 = []\n",
    "        # number of test_instance 3\n",
    "        self.test_instance_3 = []\n",
    "        # number of test_instance 4\n",
    "        self.test_instance_4 = []\n",
    "        # number of test_instance 5\n",
    "        self.test_instance_5 = []\n",
    "        # number of test_instance 6\n",
    "        self.test_instance_6 = []\n",
    "\n",
    "    # load the data\n",
    "    def tusimple_load_from_json(self):\n",
    "        # train data load\n",
    "        print(\"* Train Data Load Start\")\n",
    "        for idx, label_file in enumerate(self.train_label_files):\n",
    "            # print(\"* {} : {} Load Start\".format(idx, label_file))\n",
    "\n",
    "            with open(self.train_path + label_file) as f:\n",
    "                for line in f.readlines():\n",
    "                    json_line = json.loads(line)\n",
    "                    self.train_data.append(json_line)\n",
    "\n",
    "            # print(\"* {} : {} Load Finish\".format(idx, label_file))\n",
    "        self.train_size = len(self.train_data)\n",
    "\n",
    "        print(\"* Train Data Load Finish\")\n",
    "\n",
    "        # test data load\n",
    "        print(\"* Test Data Load Start\")\n",
    "\n",
    "        for idx, label_file in enumerate(self.test_label_files):\n",
    "            # print(\"* {} : {} Load Start\".format(idx, label_file))\n",
    "\n",
    "            with open(self.test_path + label_file) as f:\n",
    "                for line in f.readlines():\n",
    "                    json_line = json.loads(line)\n",
    "                    self.test_data.append(json_line)\n",
    "\n",
    "        self.test_size = len(self.test_data)\n",
    "\n",
    "        print(\"* Test Data Load Finish\")\n",
    "\n",
    "    # split according to the number of instances\n",
    "    def tusimple_split_instance(self):\n",
    "        print(\"**-----------------------------------------------**\")\n",
    "        print(\"* Train Data Split Start\")\n",
    "        # train data split\n",
    "        for idx,instance in enumerate(self.train_data):\n",
    "            if len(instance['lanes']) == 1:\n",
    "                self.train_instance_1.append(instance)\n",
    "            elif len(instance['lanes']) == 2:\n",
    "                self.train_instance_2.append(instance)\n",
    "            elif len(instance['lanes']) == 3:\n",
    "                self.train_instance_3.append(instance)\n",
    "            elif len(instance['lanes']) == 4:\n",
    "                self.train_instance_4.append(instance)\n",
    "            elif len(instance['lanes']) == 5:\n",
    "                self.train_instance_5.append(instance)\n",
    "            elif len(instance['lanes']) == 6:\n",
    "                self.train_instance_6.append(instance)\n",
    "\n",
    "\n",
    "        print(\"num_train_instance_1 : {}\".format(len(self.train_instance_1)))\n",
    "        print(\"num_train_instance_2 : {}\".format(len(self.train_instance_2)))\n",
    "        print(\"num_train_instance_3 : {}\".format(len(self.train_instance_3)))\n",
    "        print(\"num_train_instance_4 : {}\".format(len(self.train_instance_4)))\n",
    "        print(\"num_train_instance_5 : {}\".format(len(self.train_instance_5)))\n",
    "        print(\"num_train_instance_6 : {}\".format(len(self.train_instance_6)))\n",
    "\n",
    "\n",
    "        print(\"* Train Data Split Finish\")\n",
    "        print(\"**-----------------------------------------------**\")\n",
    "\n",
    "        print(\"* Test Data Split Start\")\n",
    "\n",
    "        # test data split\n",
    "        for idx,instance in enumerate(self.test_data):\n",
    "            if len(instance['lanes']) == 1:\n",
    "                self.test_instance_1.append(instance)\n",
    "            elif len(instance['lanes']) == 2:\n",
    "                self.test_instance_2.append(instance)\n",
    "            elif len(instance['lanes']) == 3:\n",
    "                self.test_instance_3.append(instance)\n",
    "            elif len(instance['lanes']) == 4:\n",
    "                self.test_instance_4.append(instance)\n",
    "            elif len(instance['lanes']) == 5:\n",
    "                self.test_instance_5.append(instance)\n",
    "            elif len(instance['lanes']) == 6:\n",
    "                self.test_instance_6.append(instance)\n",
    "\n",
    "        print(\"num_test_instance_1 : {}\".format(len(self.test_instance_1)))\n",
    "        print(\"num_test_instance_2 : {}\".format(len(self.test_instance_2)))\n",
    "        print(\"num_test_instance_3 : {}\".format(len(self.test_instance_3)))\n",
    "        print(\"num_test_instance_4 : {}\".format(len(self.test_instance_4)))\n",
    "        print(\"num_test_instance_5 : {}\".format(len(self.test_instance_5)))\n",
    "        print(\"num_test_instance_6 : {}\".format(len(self.test_instance_6)))\n",
    "\n",
    "        print(\"* Test Data Split Finish\")\n",
    "\n",
    "        print(\"**-----------------------------------------------**\")\n",
    "\n"
   ]
  },
  {
   "cell_type": "code",
   "execution_count": 2,
   "metadata": {},
   "outputs": [],
   "source": [
    "tusimple_manager = Tusimple_Manager()"
   ]
  },
  {
   "cell_type": "code",
   "execution_count": 3,
   "metadata": {},
   "outputs": [
    {
     "name": "stdout",
     "output_type": "stream",
     "text": [
      "* Train Data Load Start\n",
      "* Train Data Load Finish\n",
      "* Test Data Load Start\n",
      "* Test Data Load Finish\n"
     ]
    }
   ],
   "source": [
    "tusimple_manager.tusimple_load_from_json()"
   ]
  },
  {
   "cell_type": "code",
   "execution_count": 4,
   "metadata": {},
   "outputs": [
    {
     "name": "stdout",
     "output_type": "stream",
     "text": [
      "**-----------------------------------------------**\n",
      "* Train Data Split Start\n",
      "num_train_instance_1 : 0\n",
      "num_train_instance_2 : 1\n",
      "num_train_instance_3 : 404\n",
      "num_train_instance_4 : 2982\n",
      "num_train_instance_5 : 239\n",
      "num_train_instance_6 : 0\n",
      "* Train Data Split Finish\n",
      "**-----------------------------------------------**\n",
      "* Test Data Split Start\n",
      "num_test_instance_1 : 0\n",
      "num_test_instance_2 : 5\n",
      "num_test_instance_3 : 1740\n",
      "num_test_instance_4 : 468\n",
      "num_test_instance_5 : 569\n",
      "num_test_instance_6 : 0\n",
      "* Test Data Split Finish\n",
      "**-----------------------------------------------**\n"
     ]
    }
   ],
   "source": [
    "tusimple_manager.tusimple_split_instance()"
   ]
  },
  {
   "cell_type": "code",
   "execution_count": 5,
   "metadata": {},
   "outputs": [],
   "source": [
    "data = tusimple_manager.train_instance_2[0]"
   ]
  },
  {
   "cell_type": "code",
   "execution_count": 6,
   "metadata": {},
   "outputs": [],
   "source": [
    "import numpy as np\n",
    "\n",
    "datas = []\n",
    "\n",
    "for lane_idx, lane_x_points in enumerate(data['lanes'],0):\n",
    "    curve_vertices = list(filter(lambda xy_pair : xy_pair[0] > 0, zip(lane_x_points, data['h_samples'])))\n",
    "    curve_vertices = np.array(curve_vertices, dtype=np.float)\n",
    "    datas.append(np.flip(curve_vertices, axis=0))"
   ]
  },
  {
   "cell_type": "code",
   "execution_count": 7,
   "metadata": {},
   "outputs": [
    {
     "data": {
      "text/plain": [
       "<matplotlib.legend.Legend at 0x7fb038045310>"
      ]
     },
     "execution_count": 7,
     "metadata": {},
     "output_type": "execute_result"
    },
    {
     "data": {
      "image/png": "[encoded data removed]",
      "text/plain": [
       "<Figure size 432x288 with 1 Axes>"
      ]
     },
     "metadata": {
      "needs_background": "light"
     },
     "output_type": "display_data"
    }
   ],
   "source": [
    "for data in datas:\n",
    "    plt.plot(data[:, 0], data[:, 1])\n",
    "\n",
    "plt.legend([\"lane_1\", \"lane_2\"])"
   ]
  },
  {
   "cell_type": "code",
   "execution_count": 8,
   "metadata": {},
   "outputs": [
    {
     "name": "stdout",
     "output_type": "stream",
     "text": [
      "[array([[ 11., 680.],\n",
      "       [ 26., 670.],\n",
      "       [ 40., 660.],\n",
      "       [ 55., 650.],\n",
      "       [ 70., 640.],\n",
      "       [ 85., 630.],\n",
      "       [100., 620.],\n",
      "       [115., 610.],\n",
      "       [130., 600.],\n",
      "       [145., 590.],\n",
      "       [160., 580.],\n",
      "       [175., 570.],\n",
      "       [190., 560.],\n",
      "       [205., 550.],\n",
      "       [220., 540.],\n",
      "       [235., 530.],\n",
      "       [250., 520.],\n",
      "       [264., 510.],\n",
      "       [279., 500.],\n",
      "       [294., 490.],\n",
      "       [309., 480.],\n",
      "       [324., 470.],\n",
      "       [339., 460.],\n",
      "       [354., 450.],\n",
      "       [369., 440.],\n",
      "       [384., 430.],\n",
      "       [399., 420.],\n",
      "       [414., 410.],\n",
      "       [429., 400.],\n",
      "       [444., 390.],\n",
      "       [459., 380.],\n",
      "       [474., 370.],\n",
      "       [488., 360.],\n",
      "       [503., 350.],\n",
      "       [521., 340.],\n",
      "       [541., 330.],\n",
      "       [560., 320.],\n",
      "       [580., 310.],\n",
      "       [600., 300.],\n",
      "       [620., 290.],\n",
      "       [639., 280.],\n",
      "       [663., 270.],\n",
      "       [688., 260.],\n",
      "       [713., 250.],\n",
      "       [748., 240.],\n",
      "       [802., 230.]]), array([[1096.,  710.],\n",
      "       [1088.,  700.],\n",
      "       [1081.,  690.],\n",
      "       [1073.,  680.],\n",
      "       [1065.,  670.],\n",
      "       [1057.,  660.],\n",
      "       [1049.,  650.],\n",
      "       [1041.,  640.],\n",
      "       [1033.,  630.],\n",
      "       [1026.,  620.],\n",
      "       [1018.,  610.],\n",
      "       [1010.,  600.],\n",
      "       [1002.,  590.],\n",
      "       [ 994.,  580.],\n",
      "       [ 986.,  570.],\n",
      "       [ 978.,  560.],\n",
      "       [ 970.,  550.],\n",
      "       [ 963.,  540.],\n",
      "       [ 955.,  530.],\n",
      "       [ 947.,  520.],\n",
      "       [ 939.,  510.],\n",
      "       [ 931.,  500.],\n",
      "       [ 923.,  490.],\n",
      "       [ 915.,  480.],\n",
      "       [ 908.,  470.],\n",
      "       [ 900.,  460.],\n",
      "       [ 892.,  450.],\n",
      "       [ 884.,  440.],\n",
      "       [ 876.,  430.],\n",
      "       [ 868.,  420.],\n",
      "       [ 860.,  410.],\n",
      "       [ 852.,  400.],\n",
      "       [ 845.,  390.],\n",
      "       [ 839.,  380.],\n",
      "       [ 832.,  370.],\n",
      "       [ 826.,  360.],\n",
      "       [ 820.,  350.],\n",
      "       [ 814.,  340.],\n",
      "       [ 810.,  330.],\n",
      "       [ 807.,  320.],\n",
      "       [ 804.,  310.],\n",
      "       [ 801.,  300.],\n",
      "       [ 798.,  290.],\n",
      "       [ 795.,  280.],\n",
      "       [ 801.,  270.],\n",
      "       [ 808.,  260.],\n",
      "       [ 814.,  250.],\n",
      "       [ 841.,  240.]])]\n"
     ]
    }
   ],
   "source": [
    "print(datas)"
   ]
  },
  {
   "cell_type": "code",
   "execution_count": 9,
   "metadata": {},
   "outputs": [
    {
     "name": "stdout",
     "output_type": "stream",
     "text": [
      "[[0.00859375 0.94444444]\n",
      " [0.0203125  0.93055556]\n",
      " [0.03125    0.91666667]\n",
      " [0.04296875 0.90277778]\n",
      " [0.0546875  0.88888889]\n",
      " [0.06640625 0.875     ]\n",
      " [0.078125   0.86111111]\n",
      " [0.08984375 0.84722222]\n",
      " [0.1015625  0.83333333]\n",
      " [0.11328125 0.81944444]\n",
      " [0.125      0.80555556]\n",
      " [0.13671875 0.79166667]\n",
      " [0.1484375  0.77777778]\n",
      " [0.16015625 0.76388889]\n",
      " [0.171875   0.75      ]\n",
      " [0.18359375 0.73611111]\n",
      " [0.1953125  0.72222222]\n",
      " [0.20625    0.70833333]\n",
      " [0.21796875 0.69444444]\n",
      " [0.2296875  0.68055556]\n",
      " [0.24140625 0.66666667]\n",
      " [0.253125   0.65277778]\n",
      " [0.26484375 0.63888889]\n",
      " [0.2765625  0.625     ]\n",
      " [0.28828125 0.61111111]\n",
      " [0.3        0.59722222]\n",
      " [0.31171875 0.58333333]\n",
      " [0.3234375  0.56944444]\n",
      " [0.33515625 0.55555556]\n",
      " [0.346875   0.54166667]\n",
      " [0.35859375 0.52777778]\n",
      " [0.3703125  0.51388889]\n",
      " [0.38125    0.5       ]\n",
      " [0.39296875 0.48611111]\n",
      " [0.40703125 0.47222222]\n",
      " [0.42265625 0.45833333]\n",
      " [0.4375     0.44444444]\n",
      " [0.453125   0.43055556]\n",
      " [0.46875    0.41666667]\n",
      " [0.484375   0.40277778]\n",
      " [0.49921875 0.38888889]\n",
      " [0.51796875 0.375     ]\n",
      " [0.5375     0.36111111]\n",
      " [0.55703125 0.34722222]\n",
      " [0.584375   0.33333333]\n",
      " [0.6265625  0.31944444]]\n",
      "[[0.85625    0.98611111]\n",
      " [0.85       0.97222222]\n",
      " [0.84453125 0.95833333]\n",
      " [0.83828125 0.94444444]\n",
      " [0.83203125 0.93055556]\n",
      " [0.82578125 0.91666667]\n",
      " [0.81953125 0.90277778]\n",
      " [0.81328125 0.88888889]\n",
      " [0.80703125 0.875     ]\n",
      " [0.8015625  0.86111111]\n",
      " [0.7953125  0.84722222]\n",
      " [0.7890625  0.83333333]\n",
      " [0.7828125  0.81944444]\n",
      " [0.7765625  0.80555556]\n",
      " [0.7703125  0.79166667]\n",
      " [0.7640625  0.77777778]\n",
      " [0.7578125  0.76388889]\n",
      " [0.75234375 0.75      ]\n",
      " [0.74609375 0.73611111]\n",
      " [0.73984375 0.72222222]\n",
      " [0.73359375 0.70833333]\n",
      " [0.72734375 0.69444444]\n",
      " [0.72109375 0.68055556]\n",
      " [0.71484375 0.66666667]\n",
      " [0.709375   0.65277778]\n",
      " [0.703125   0.63888889]\n",
      " [0.696875   0.625     ]\n",
      " [0.690625   0.61111111]\n",
      " [0.684375   0.59722222]\n",
      " [0.678125   0.58333333]\n",
      " [0.671875   0.56944444]\n",
      " [0.665625   0.55555556]\n",
      " [0.66015625 0.54166667]\n",
      " [0.65546875 0.52777778]\n",
      " [0.65       0.51388889]\n",
      " [0.6453125  0.5       ]\n",
      " [0.640625   0.48611111]\n",
      " [0.6359375  0.47222222]\n",
      " [0.6328125  0.45833333]\n",
      " [0.63046875 0.44444444]\n",
      " [0.628125   0.43055556]\n",
      " [0.62578125 0.41666667]\n",
      " [0.6234375  0.40277778]\n",
      " [0.62109375 0.38888889]\n",
      " [0.62578125 0.375     ]\n",
      " [0.63125    0.36111111]\n",
      " [0.6359375  0.34722222]\n",
      " [0.65703125 0.33333333]]\n"
     ]
    },
    {
     "data": {
      "image/png": "[encoded data removed]",
      "text/plain": [
       "<Figure size 432x288 with 1 Axes>"
      ]
     },
     "metadata": {
      "needs_background": "light"
     },
     "output_type": "display_data"
    }
   ],
   "source": [
    "for data in datas:\n",
    "    data[:, 0] = data[:, 0]/1280.0\n",
    "    data[:, 1] = data[:, 1]/720.0\n",
    "    \n",
    "    print(data)\n",
    "    \n",
    "    plt.plot(data[:, 0], data[:, 1])"
   ]
  },
  {
   "cell_type": "code",
   "execution_count": 10,
   "metadata": {},
   "outputs": [
    {
     "data": {
      "text/plain": [
       "([41, 43], [5, 5])"
      ]
     },
     "execution_count": 10,
     "metadata": {},
     "output_type": "execute_result"
    }
   ],
   "source": [
    "train_sizes = []\n",
    "test_sizes = []\n",
    "\n",
    "for data in datas:\n",
    "    train_size = int(len(data)*0.90)\n",
    "    test_size = len(data) - train_size\n",
    "    \n",
    "    train_sizes.append(train_size)\n",
    "    test_sizes.append(test_size)\n",
    "\n",
    "train_sizes, test_sizes"
   ]
  },
  {
   "cell_type": "code",
   "execution_count": 11,
   "metadata": {},
   "outputs": [
    {
     "name": "stdout",
     "output_type": "stream",
     "text": [
      "41\n",
      "11\n",
      "43\n",
      "11\n"
     ]
    },
    {
     "data": {
      "image/png": "[encoded data removed]",
      "text/plain": [
       "<Figure size 432x288 with 1 Axes>"
      ]
     },
     "metadata": {
      "needs_background": "light"
     },
     "output_type": "display_data"
    }
   ],
   "source": [
    "seq_len = 6\n",
    "\n",
    "train_sets = []\n",
    "test_sets = []\n",
    "\n",
    "for idx, data in enumerate(datas):\n",
    "    train_set = data[:train_sizes[idx]]\n",
    "    print(len(train_set))\n",
    "    test_set = data[train_sizes[idx]-seq_len:]\n",
    "    print(len(test_set))\n",
    "    \n",
    "    train_sets.append(train_set)\n",
    "    test_sets.append(test_set)\n",
    "    \n",
    "    plt.plot(train_set[:,0], train_set[:,1])\n",
    "    plt.plot(test_set[:,0], test_set[:,1])\n",
    "    \n",
    "plt.show()"
   ]
  },
  {
   "cell_type": "code",
   "execution_count": 12,
   "metadata": {},
   "outputs": [],
   "source": [
    "def make_sequence(norm_data, seq_len):\n",
    "    inout_seq = []\n",
    "    L = len(norm_data)\n",
    "    \n",
    "    data_x = []\n",
    "    data_y = []\n",
    "    \n",
    "    for i in range(L-seq_len):\n",
    "        train_seq = norm_data[i:i+seq_len]\n",
    "        test_label = norm_data[i+seq_len:i+seq_len+1]\n",
    "        \n",
    "        data_x.append(train_seq)\n",
    "        data_y.append(test_label)\n",
    "    \n",
    "    return np.array(data_x), np.array(data_y)"
   ]
  },
  {
   "cell_type": "code",
   "execution_count": 13,
   "metadata": {},
   "outputs": [
    {
     "data": {
      "image/png": "[encoded data removed]",
      "text/plain": [
       "<Figure size 432x288 with 1 Axes>"
      ]
     },
     "metadata": {
      "needs_background": "light"
     },
     "output_type": "display_data"
    }
   ],
   "source": [
    "train_x_s = []\n",
    "train_y_s = []\n",
    "\n",
    "test_x_s = []\n",
    "test_y_s = []\n",
    "\n",
    "for train_set in train_sets:\n",
    "    train_x, train_y = make_sequence(train_set, seq_len)\n",
    "    train_x_s.append(train_x)\n",
    "    train_y_s.append(train_y)\n",
    "\n",
    "for test_set in test_sets:\n",
    "    test_x, test_y = make_sequence(test_set, seq_len)\n",
    "    test_x_s.append(test_x)\n",
    "    test_y_s.append(test_y)\n",
    "    \n",
    "for train_x in train_x_s:\n",
    "    for tr_x in train_x:\n",
    "        plt.plot(tr_x[:,0], tr_x[:, 1])\n",
    "    "
   ]
  },
  {
   "cell_type": "code",
   "execution_count": 14,
   "metadata": {},
   "outputs": [
    {
     "data": {
      "image/png": "[encoded data removed]",
      "text/plain": [
       "<Figure size 432x288 with 1 Axes>"
      ]
     },
     "metadata": {
      "needs_background": "light"
     },
     "output_type": "display_data"
    }
   ],
   "source": [
    "\n",
    "        \n",
    "for test_x in test_x_s:\n",
    "    for ts_x in test_x:\n",
    "        plt.plot(ts_x[:,0], ts_x[:, 1])"
   ]
  },
  {
   "cell_type": "code",
   "execution_count": 15,
   "metadata": {},
   "outputs": [],
   "source": [
    "import torch\n",
    "import torch.nn as nn\n",
    "from torch.autograd import Variable\n",
    "\n",
    "train_x_tensors = []\n",
    "train_y_tensors = []\n",
    "\n",
    "test_x_tensors = []\n",
    "test_y_tensors = []\n",
    "\n",
    "for train_x in train_x_s:\n",
    "    train_x_tensors.append(Variable(torch.Tensor(train_x)))\n",
    "\n",
    "for train_y in train_y_s:\n",
    "    train_y_tensors.append(Variable(torch.Tensor(train_y)))\n",
    "\n",
    "for test_x in test_x_s:\n",
    "    test_x_tensors.append(Variable(torch.Tensor(test_x)))\n",
    "#     print(torch.Tensor(test_x).shape)\n",
    "    \n",
    "for test_y in test_y_s:\n",
    "    test_y_tensors.append(Variable(torch.Tensor(test_y)))"
   ]
  },
  {
   "cell_type": "code",
   "execution_count": 16,
   "metadata": {},
   "outputs": [],
   "source": [
    "class LSTM(nn.Module):\n",
    "    def __init__(self, num_classes=2, input_size=2, hidden_size=50, num_layers =2 ,output_size = 2 ):\n",
    "        super(LSTM,self).__init__()\n",
    "        \n",
    "        self.num_classes = num_classes\n",
    "        self.num_layers = num_layers\n",
    "        self.input_size = input_size\n",
    "        self.hidden_size = hidden_size\n",
    "        self.output_size = output_size\n",
    "        \n",
    "        self.lstm = nn.LSTM(input_size = input_size, hidden_size=hidden_size,num_layers = num_layers, batch_first = True)\n",
    "        self.layers = nn.Sequential(\n",
    "            nn.Linear(hidden_size, 60),\n",
    "            nn.Linear(60,30),\n",
    "            nn.Linear(30, output_size)\n",
    "        )\n",
    "        self.relu = nn.ReLU()\n",
    "        \n",
    "    def forward(self, x):\n",
    "        h_0 = Variable(torch.zeros(self.num_layers, x.size(0), self.hidden_size))\n",
    "        c_0 = Variable(torch.zeros(self.num_layers, x.size(0), self.hidden_size))\n",
    "        \n",
    "        x, (hidden, cell) = self.lstm(x, (h_0, c_0))\n",
    "        x = self.relu(x)\n",
    "        x = self.layers(x[:,-1,])\n",
    "        return x"
   ]
  },
  {
   "cell_type": "code",
   "execution_count": 17,
   "metadata": {},
   "outputs": [],
   "source": [
    "model = LSTM()\n",
    "\n",
    "criterion = torch.nn.MSELoss()\n",
    "optimizer = torch.optim.Adam(model.parameters(), lr=0.001)"
   ]
  },
  {
   "cell_type": "code",
   "execution_count": 18,
   "metadata": {},
   "outputs": [
    {
     "name": "stdout",
     "output_type": "stream",
     "text": [
      "LSTM(\n",
      "  (lstm): LSTM(2, 50, num_layers=2, batch_first=True)\n",
      "  (layers): Sequential(\n",
      "    (0): Linear(in_features=50, out_features=60, bias=True)\n",
      "    (1): Linear(in_features=60, out_features=30, bias=True)\n",
      "    (2): Linear(in_features=30, out_features=2, bias=True)\n",
      "  )\n",
      "  (relu): ReLU()\n",
      ")\n"
     ]
    }
   ],
   "source": [
    "print(model)"
   ]
  },
  {
   "cell_type": "code",
   "execution_count": 19,
   "metadata": {},
   "outputs": [
    {
     "name": "stdout",
     "output_type": "stream",
     "text": [
      "Epoch 0, Loss 0.20488\n",
      "Epoch 25, Loss 0.03406\n",
      "Epoch 50, Loss 0.01081\n",
      "Epoch 75, Loss 0.00041\n",
      "Epoch 100, Loss 0.00009\n",
      "Epoch 125, Loss 0.00005\n",
      "Epoch 150, Loss 0.00003\n",
      "Epoch 175, Loss 0.00001\n"
     ]
    }
   ],
   "source": [
    "epochs = 200\n",
    "\n",
    "for epoch in range(epochs):\n",
    "    model.train()\n",
    "    \n",
    "    avg_loss = 0\n",
    "    \n",
    "    for idx, (train_x_tensor, train_y_tensor) in enumerate(zip(train_x_tensors, train_y_tensors)):\n",
    "        optimizer.zero_grad()\n",
    "        \n",
    "        predict = model.forward(train_x_tensor)\n",
    "        \n",
    "        loss = criterion(predict, train_y_tensor.view([-1,2]))\n",
    "        loss.backward()\n",
    "        \n",
    "#         if epoch%25:\n",
    "#             print('Epoch {}, Loss {:.5f}'.format(epoch, loss.item()))\n",
    "        \n",
    "        \n",
    "        avg_loss = (avg_loss * idx + loss.item()) / (idx + 1)\n",
    "        \n",
    "        optimizer.step()\n",
    "    \n",
    "    if epoch%25 == 0:\n",
    "        print('Epoch {}, Loss {:.5f}'.format(epoch, avg_loss))\n",
    "        \n",
    "    "
   ]
  },
  {
   "cell_type": "code",
   "execution_count": 21,
   "metadata": {},
   "outputs": [
    {
     "name": "stdout",
     "output_type": "stream",
     "text": [
      "(5, 2)\n",
      "(5, 2)\n"
     ]
    },
    {
     "data": {
      "image/png": "[encoded data removed]",
      "text/plain": [
       "<Figure size 432x288 with 1 Axes>"
      ]
     },
     "metadata": {
      "needs_background": "light"
     },
     "output_type": "display_data"
    }
   ],
   "source": [
    "model.eval()\n",
    "\n",
    "with torch.no_grad():\n",
    "    for idx, (test_x_tensor, test_y_tensor) in enumerate(zip(test_x_tensors, test_y_tensors)):\n",
    "        predict = model.forward(test_x_tensor).data.numpy()\n",
    "        print(predict.shape)\n",
    "        \n",
    "        test_x_tensor = test_x_tensor.view(-1,2).data.numpy()\n",
    "        test_y_tensor = test_y_tensor.view(-1,2).data.numpy()\n",
    "        \n",
    "        # test x plot\n",
    "        plt.plot(test_x_tensor[:, 0]*1280,test_x_tensor[:, 1]*720, '--', label='lane ' + str(idx))\n",
    "#         print(test_x_tensor[:, 0]*1280,test_x_tensor[:, 1]*720)\n",
    "        # test y plot\n",
    "        plt.plot(test_y_tensor[:, 0]*1280,test_y_tensor[:, 1]*720, '*', label = 'gt point ' + str(idx))\n",
    "        # prediction plot\n",
    "        plt.plot(predict[:,0]*1280 , predict[:, 1]*720, 'o', label = 'prediction_point '+ str(idx))\n",
    "        plt.legend()"
   ]
  },
  {
   "cell_type": "code",
   "execution_count": null,
   "metadata": {},
   "outputs": [],
   "source": []
  }
 ],
 "metadata": {
  "kernelspec": {
   "display_name": "Python 3",
   "language": "python",
   "name": "python3"
  },
  "language_info": {
   "codemirror_mode": {
    "name": "ipython",
    "version": 3
   },
   "file_extension": ".py",
   "mimetype": "text/x-python",
   "name": "python",
   "nbconvert_exporter": "python",
   "pygments_lexer": "ipython3",
   "version": "3.7.9"
  }
 },
 "nbformat": 4,
 "nbformat_minor": 4
}
