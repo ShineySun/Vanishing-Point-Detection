{
 "cells": [
  {
   "cell_type": "code",
   "execution_count": 4,
   "metadata": {},
   "outputs": [],
   "source": [
    "import json\n",
    "# Tusimple Dataset Management Tool\n",
    "class Tusimple_Manager(object):\n",
    "    # initialize\n",
    "    def __init__(self, root_dir = '/home/sun/tusimple'):\n",
    "        # train data root path\n",
    "        self.train_path = root_dir + '/train_set/'\n",
    "        # test data root path\n",
    "        self.test_path = root_dir + '/test_set/'\n",
    "        # train data annotation files\n",
    "        self.train_label_files = ['label_data_0313.json' , 'label_data_0531.json' , 'label_data_0601.json']\n",
    "        # test data annotation files\n",
    "        self.test_label_files = ['test_label.json']\n",
    "\n",
    "        # train annotation data\n",
    "        self.train_data = []\n",
    "        # train data size\n",
    "        self.train_size = 0\n",
    "        # test annotation data\n",
    "        self.test_data = []\n",
    "        # test data size\n",
    "        self.test_size = 0\n",
    "\n",
    "        # number of train_instance 1\n",
    "        self.train_instance_1 = []\n",
    "        # number of train_instance 2\n",
    "        self.train_instance_2 = []\n",
    "        # number of train_instance 3\n",
    "        self.train_instance_3 = []\n",
    "        # number of train_instance 4\n",
    "        self.train_instance_4 = []\n",
    "        # number of train_instance 5\n",
    "        self.train_instance_5 = []\n",
    "        # number of train_instance 6\n",
    "        self.train_instance_6 = []\n",
    "\n",
    "\n",
    "        # number of test_instance 1\n",
    "        self.test_instance_1 = []\n",
    "        # number of test_instance 2\n",
    "        self.test_instance_2 = []\n",
    "        # number of test_instance 3\n",
    "        self.test_instance_3 = []\n",
    "        # number of test_instance 4\n",
    "        self.test_instance_4 = []\n",
    "        # number of test_instance 5\n",
    "        self.test_instance_5 = []\n",
    "        # number of test_instance 6\n",
    "        self.test_instance_6 = []\n",
    "\n",
    "    # load the data\n",
    "    def tusimple_load_from_json(self):\n",
    "        # train data load\n",
    "        print(\"* Train Data Load Start\")\n",
    "        for idx, label_file in enumerate(self.train_label_files):\n",
    "            # print(\"* {} : {} Load Start\".format(idx, label_file))\n",
    "\n",
    "            with open(self.train_path + label_file) as f:\n",
    "                for line in f.readlines():\n",
    "                    json_line = json.loads(line)\n",
    "                    self.train_data.append(json_line)\n",
    "\n",
    "            # print(\"* {} : {} Load Finish\".format(idx, label_file))\n",
    "        self.train_size = len(self.train_data)\n",
    "\n",
    "        print(\"* Train Data Load Finish\")\n",
    "\n",
    "        # test data load\n",
    "        print(\"* Test Data Load Start\")\n",
    "\n",
    "        for idx, label_file in enumerate(self.test_label_files):\n",
    "            # print(\"* {} : {} Load Start\".format(idx, label_file))\n",
    "\n",
    "            with open(self.test_path + label_file) as f:\n",
    "                for line in f.readlines():\n",
    "                    json_line = json.loads(line)\n",
    "                    self.test_data.append(json_line)\n",
    "\n",
    "        self.test_size = len(self.test_data)\n",
    "\n",
    "        print(\"* Test Data Load Finish\")\n",
    "\n",
    "    # split according to the number of instances\n",
    "    def tusimple_split_instance(self):\n",
    "        print(\"**-----------------------------------------------**\")\n",
    "        print(\"* Train Data Split Start\")\n",
    "        # train data split\n",
    "        for idx,instance in enumerate(self.train_data):\n",
    "            if len(instance['lanes']) == 1:\n",
    "                self.train_instance_1.append(instance)\n",
    "            elif len(instance['lanes']) == 2:\n",
    "                self.train_instance_2.append(instance)\n",
    "            elif len(instance['lanes']) == 3:\n",
    "                self.train_instance_3.append(instance)\n",
    "            elif len(instance['lanes']) == 4:\n",
    "                self.train_instance_4.append(instance)\n",
    "            elif len(instance['lanes']) == 5:\n",
    "                self.train_instance_5.append(instance)\n",
    "            elif len(instance['lanes']) == 6:\n",
    "                self.train_instance_6.append(instance)\n",
    "\n",
    "\n",
    "        print(\"num_train_instance_1 : {}\".format(len(self.train_instance_1)))\n",
    "        print(\"num_train_instance_2 : {}\".format(len(self.train_instance_2)))\n",
    "        print(\"num_train_instance_3 : {}\".format(len(self.train_instance_3)))\n",
    "        print(\"num_train_instance_4 : {}\".format(len(self.train_instance_4)))\n",
    "        print(\"num_train_instance_5 : {}\".format(len(self.train_instance_5)))\n",
    "        print(\"num_train_instance_6 : {}\".format(len(self.train_instance_6)))\n",
    "\n",
    "\n",
    "        print(\"* Train Data Split Finish\")\n",
    "        print(\"**-----------------------------------------------**\")\n",
    "\n",
    "        print(\"* Test Data Split Start\")\n",
    "\n",
    "        # test data split\n",
    "        for idx,instance in enumerate(self.test_data):\n",
    "            if len(instance['lanes']) == 1:\n",
    "                self.test_instance_1.append(instance)\n",
    "            elif len(instance['lanes']) == 2:\n",
    "                self.test_instance_2.append(instance)\n",
    "            elif len(instance['lanes']) == 3:\n",
    "                self.test_instance_3.append(instance)\n",
    "            elif len(instance['lanes']) == 4:\n",
    "                self.test_instance_4.append(instance)\n",
    "            elif len(instance['lanes']) == 5:\n",
    "                self.test_instance_5.append(instance)\n",
    "            elif len(instance['lanes']) == 6:\n",
    "                self.test_instance_6.append(instance)\n",
    "\n",
    "        print(\"num_test_instance_1 : {}\".format(len(self.test_instance_1)))\n",
    "        print(\"num_test_instance_2 : {}\".format(len(self.test_instance_2)))\n",
    "        print(\"num_test_instance_3 : {}\".format(len(self.test_instance_3)))\n",
    "        print(\"num_test_instance_4 : {}\".format(len(self.test_instance_4)))\n",
    "        print(\"num_test_instance_5 : {}\".format(len(self.test_instance_5)))\n",
    "        print(\"num_test_instance_6 : {}\".format(len(self.test_instance_6)))\n",
    "\n",
    "        print(\"* Test Data Split Finish\")\n",
    "\n",
    "        print(\"**-----------------------------------------------**\")\n",
    "\n"
   ]
  },
  {
   "cell_type": "code",
   "execution_count": 5,
   "metadata": {},
   "outputs": [],
   "source": [
    "tusimple_manager = Tusimple_Manager()"
   ]
  },
  {
   "cell_type": "code",
   "execution_count": 6,
   "metadata": {},
   "outputs": [
    {
     "name": "stdout",
     "output_type": "stream",
     "text": [
      "* Train Data Load Start\n",
      "* Train Data Load Finish\n",
      "* Test Data Load Start\n",
      "* Test Data Load Finish\n"
     ]
    }
   ],
   "source": [
    "tusimple_manager.tusimple_load_from_json()"
   ]
  },
  {
   "cell_type": "code",
   "execution_count": 7,
   "metadata": {},
   "outputs": [
    {
     "name": "stdout",
     "output_type": "stream",
     "text": [
      "**-----------------------------------------------**\n",
      "* Train Data Split Start\n",
      "num_train_instance_1 : 0\n",
      "num_train_instance_2 : 1\n",
      "num_train_instance_3 : 404\n",
      "num_train_instance_4 : 2982\n",
      "num_train_instance_5 : 239\n",
      "num_train_instance_6 : 0\n",
      "* Train Data Split Finish\n",
      "**-----------------------------------------------**\n",
      "* Test Data Split Start\n",
      "num_test_instance_1 : 0\n",
      "num_test_instance_2 : 5\n",
      "num_test_instance_3 : 1740\n",
      "num_test_instance_4 : 468\n",
      "num_test_instance_5 : 569\n",
      "num_test_instance_6 : 0\n",
      "* Test Data Split Finish\n",
      "**-----------------------------------------------**\n"
     ]
    }
   ],
   "source": [
    "tusimple_manager.tusimple_split_instance()"
   ]
  },
  {
   "cell_type": "code",
   "execution_count": 9,
   "metadata": {},
   "outputs": [],
   "source": [
    "data = tusimple_manager.train_instance_2[0]"
   ]
  },
  {
   "cell_type": "code",
   "execution_count": 10,
   "metadata": {},
   "outputs": [
    {
     "data": {
      "text/plain": [
       "{'lanes': [[-2,\n",
       "   -2,\n",
       "   -2,\n",
       "   -2,\n",
       "   -2,\n",
       "   -2,\n",
       "   -2,\n",
       "   802,\n",
       "   748,\n",
       "   713,\n",
       "   688,\n",
       "   663,\n",
       "   639,\n",
       "   620,\n",
       "   600,\n",
       "   580,\n",
       "   560,\n",
       "   541,\n",
       "   521,\n",
       "   503,\n",
       "   488,\n",
       "   474,\n",
       "   459,\n",
       "   444,\n",
       "   429,\n",
       "   414,\n",
       "   399,\n",
       "   384,\n",
       "   369,\n",
       "   354,\n",
       "   339,\n",
       "   324,\n",
       "   309,\n",
       "   294,\n",
       "   279,\n",
       "   264,\n",
       "   250,\n",
       "   235,\n",
       "   220,\n",
       "   205,\n",
       "   190,\n",
       "   175,\n",
       "   160,\n",
       "   145,\n",
       "   130,\n",
       "   115,\n",
       "   100,\n",
       "   85,\n",
       "   70,\n",
       "   55,\n",
       "   40,\n",
       "   26,\n",
       "   11,\n",
       "   -2,\n",
       "   -2,\n",
       "   -2],\n",
       "  [-2,\n",
       "   -2,\n",
       "   -2,\n",
       "   -2,\n",
       "   -2,\n",
       "   -2,\n",
       "   -2,\n",
       "   -2,\n",
       "   841,\n",
       "   814,\n",
       "   808,\n",
       "   801,\n",
       "   795,\n",
       "   798,\n",
       "   801,\n",
       "   804,\n",
       "   807,\n",
       "   810,\n",
       "   814,\n",
       "   820,\n",
       "   826,\n",
       "   832,\n",
       "   839,\n",
       "   845,\n",
       "   852,\n",
       "   860,\n",
       "   868,\n",
       "   876,\n",
       "   884,\n",
       "   892,\n",
       "   900,\n",
       "   908,\n",
       "   915,\n",
       "   923,\n",
       "   931,\n",
       "   939,\n",
       "   947,\n",
       "   955,\n",
       "   963,\n",
       "   970,\n",
       "   978,\n",
       "   986,\n",
       "   994,\n",
       "   1002,\n",
       "   1010,\n",
       "   1018,\n",
       "   1026,\n",
       "   1033,\n",
       "   1041,\n",
       "   1049,\n",
       "   1057,\n",
       "   1065,\n",
       "   1073,\n",
       "   1081,\n",
       "   1088,\n",
       "   1096]],\n",
       " 'h_samples': [160,\n",
       "  170,\n",
       "  180,\n",
       "  190,\n",
       "  200,\n",
       "  210,\n",
       "  220,\n",
       "  230,\n",
       "  240,\n",
       "  250,\n",
       "  260,\n",
       "  270,\n",
       "  280,\n",
       "  290,\n",
       "  300,\n",
       "  310,\n",
       "  320,\n",
       "  330,\n",
       "  340,\n",
       "  350,\n",
       "  360,\n",
       "  370,\n",
       "  380,\n",
       "  390,\n",
       "  400,\n",
       "  410,\n",
       "  420,\n",
       "  430,\n",
       "  440,\n",
       "  450,\n",
       "  460,\n",
       "  470,\n",
       "  480,\n",
       "  490,\n",
       "  500,\n",
       "  510,\n",
       "  520,\n",
       "  530,\n",
       "  540,\n",
       "  550,\n",
       "  560,\n",
       "  570,\n",
       "  580,\n",
       "  590,\n",
       "  600,\n",
       "  610,\n",
       "  620,\n",
       "  630,\n",
       "  640,\n",
       "  650,\n",
       "  660,\n",
       "  670,\n",
       "  680,\n",
       "  690,\n",
       "  700,\n",
       "  710],\n",
       " 'raw_file': 'clips/0531/1492629882697772610/20.jpg'}"
      ]
     },
     "execution_count": 10,
     "metadata": {},
     "output_type": "execute_result"
    }
   ],
   "source": [
    "data"
   ]
  },
  {
   "cell_type": "code",
   "execution_count": 201,
   "metadata": {},
   "outputs": [
    {
     "name": "stdout",
     "output_type": "stream",
     "text": [
      "[(841, 240), (814, 250), (808, 260), (801, 270), (795, 280), (798, 290), (801, 300), (804, 310), (807, 320), (810, 330), (814, 340), (820, 350), (826, 360), (832, 370), (839, 380), (845, 390), (852, 400), (860, 410), (868, 420), (876, 430), (884, 440), (892, 450), (900, 460), (908, 470), (915, 480), (923, 490), (931, 500), (939, 510), (947, 520), (955, 530), (963, 540), (970, 550), (978, 560), (986, 570), (994, 580), (1002, 590), (1010, 600), (1018, 610), (1026, 620), (1033, 630), (1041, 640), (1049, 650), (1057, 660), (1065, 670), (1073, 680), (1081, 690), (1088, 700), (1096, 710)]\n"
     ]
    }
   ],
   "source": [
    "import numpy as np\n",
    "\n",
    "datas = []\n",
    "\n",
    "for lane_idx, lane_x_points in enumerate(data['lanes'],0):\n",
    "    curve_vertices = list(filter(lambda xy_pair : xy_pair[0] > 0, zip(lane_x_points, data['h_samples'])))\n",
    "    datas.append(np.array(curve_vertices))\n",
    "\n",
    "print(curve_vertices)"
   ]
  },
  {
   "cell_type": "code",
   "execution_count": 202,
   "metadata": {},
   "outputs": [
    {
     "data": {
      "text/plain": [
       "array([ 841,  814,  808,  801,  795,  798,  801,  804,  807,  810,  814,\n",
       "        820,  826,  832,  839,  845,  852,  860,  868,  876,  884,  892,\n",
       "        900,  908,  915,  923,  931,  939,  947,  955,  963,  970,  978,\n",
       "        986,  994, 1002, 1010, 1018, 1026, 1033, 1041, 1049, 1057, 1065,\n",
       "       1073, 1081, 1088, 1096])"
      ]
     },
     "execution_count": 202,
     "metadata": {},
     "output_type": "execute_result"
    }
   ],
   "source": [
    "xy = np.array(curve_vertices)\n",
    "xy[:,0]"
   ]
  },
  {
   "cell_type": "code",
   "execution_count": 203,
   "metadata": {},
   "outputs": [],
   "source": [
    "# flip data\n",
    "xy_flip = np.flip(xy, axis=0)\n",
    "\n",
    "from sklearn.preprocessing import MinMaxScaler\n",
    "\n",
    "scaler = MinMaxScaler()\n",
    "\n",
    "xy_flip = scaler.fit_transform(xy_flip)\n",
    "\n",
    "#print(train_set_norm)"
   ]
  },
  {
   "cell_type": "code",
   "execution_count": 204,
   "metadata": {},
   "outputs": [
    {
     "name": "stdout",
     "output_type": "stream",
     "text": [
      "* total len : 48\n",
      "* train size : 38\n",
      "* test size : 10\n"
     ]
    }
   ],
   "source": [
    "train_size = int(len(xy)*0.8)\n",
    "test_size = len(xy) - train_size\n",
    "print(\"* total len : {}\".format(len(xy)))\n",
    "print(\"* train size : {}\".format(train_size))\n",
    "print(\"* test size : {}\".format(test_size))"
   ]
  },
  {
   "cell_type": "code",
   "execution_count": 205,
   "metadata": {},
   "outputs": [
    {
     "name": "stdout",
     "output_type": "stream",
     "text": [
      "* train set shape : (38, 2)\n",
      "* test set shape : (15, 2)\n"
     ]
    }
   ],
   "source": [
    "seq_len = 5\n",
    "\n",
    "train_set = xy_flip[:train_size]\n",
    "test_set = xy_flip[train_size - seq_len:]\n",
    "\n",
    "print(\"* train set shape : {}\".format(train_set.shape))\n",
    "print(\"* test set shape : {}\".format(test_set.shape))\n",
    "\n"
   ]
  },
  {
   "cell_type": "code",
   "execution_count": null,
   "metadata": {},
   "outputs": [],
   "source": []
  },
  {
   "cell_type": "code",
   "execution_count": 206,
   "metadata": {},
   "outputs": [],
   "source": [
    "def make_sequence(input, seq_len):\n",
    "    inout_seq = []\n",
    "    L = len(input)\n",
    "    \n",
    "    data_x = []\n",
    "    data_y = []\n",
    "    \n",
    "    for i in range(L-seq_len):\n",
    "        train_seq = input[i:i+seq_len]\n",
    "        test_label = input[i+seq_len:i+seq_len+1]\n",
    "        \n",
    "        data_x.append(train_seq)\n",
    "        data_y.append(test_label)\n",
    "        \n",
    "    return np.array(data_x), np.array(data_y)"
   ]
  },
  {
   "cell_type": "code",
   "execution_count": 207,
   "metadata": {},
   "outputs": [],
   "source": [
    "train_x, train_y = make_sequence(train_set, seq_len)\n",
    "test_x, test_y = make_sequence(test_set, seq_len)"
   ]
  },
  {
   "cell_type": "code",
   "execution_count": 208,
   "metadata": {},
   "outputs": [
    {
     "name": "stdout",
     "output_type": "stream",
     "text": [
      "(33, 1, 2)\n"
     ]
    }
   ],
   "source": [
    "train_x.shape, train_y.shape\n",
    "\n",
    "print(train_y.shape)"
   ]
  },
  {
   "cell_type": "code",
   "execution_count": 209,
   "metadata": {},
   "outputs": [],
   "source": [
    "import torch\n",
    "import torch.nn as nn\n",
    "from torch.autograd import Variable\n",
    "\n",
    "train_x_tensor = Variable(torch.Tensor(train_x))\n",
    "train_y_tensor = Variable(torch.Tensor(train_y))\n",
    "\n",
    "test_x_tensor = Variable(torch.Tensor(test_x))\n",
    "test_y_tensor = Variable(torch.Tensor(test_y))"
   ]
  },
  {
   "cell_type": "code",
   "execution_count": 210,
   "metadata": {},
   "outputs": [],
   "source": [
    "class LSTM(nn.Module):\n",
    "    def __init__(self, num_classes=2, input_size=2, hidden_size=30, num_layers =2 ,output_size = 2 ):\n",
    "        super(LSTM,self).__init__()\n",
    "        \n",
    "        self.num_classes = num_classes\n",
    "        self.num_layers = num_layers\n",
    "        self.input_size = input_size\n",
    "        self.hidden_size = hidden_size\n",
    "        self.output_size = output_size\n",
    "        \n",
    "        self.lstm = nn.LSTM(input_size = input_size, hidden_size=hidden_size,num_layers = num_layers, batch_first = True)\n",
    "        self.layers = nn.Sequential(\n",
    "            nn.Linear(hidden_size, 30),\n",
    "            nn.Linear(30,10),\n",
    "            nn.Linear(10, output_size)\n",
    "        )\n",
    "        \n",
    "    def forward(self, x):\n",
    "        h_0 = Variable(torch.zeros(self.num_layers, x.size(0), self.hidden_size))\n",
    "        c_0 = Variable(torch.zeros(self.num_layers, x.size(0), self.hidden_size))\n",
    "        \n",
    "        x, (hidden, cell) = self.lstm(x, (h_0, c_0))\n",
    "        x = self.layers(x[:,-1,])\n",
    "        return x\n",
    "        \n",
    "        \n",
    "        "
   ]
  },
  {
   "cell_type": "code",
   "execution_count": 211,
   "metadata": {},
   "outputs": [],
   "source": [
    "model = LSTM()"
   ]
  },
  {
   "cell_type": "code",
   "execution_count": 212,
   "metadata": {},
   "outputs": [],
   "source": [
    "criterion = torch.nn.MSELoss()\n",
    "optimizer = torch.optim.Adam(model.parameters(), lr=0.001)"
   ]
  },
  {
   "cell_type": "code",
   "execution_count": 213,
   "metadata": {},
   "outputs": [
    {
     "name": "stdout",
     "output_type": "stream",
     "text": [
      "LSTM(\n",
      "  (lstm): LSTM(2, 30, num_layers=2, batch_first=True)\n",
      "  (layers): Sequential(\n",
      "    (0): Linear(in_features=30, out_features=30, bias=True)\n",
      "    (1): Linear(in_features=30, out_features=10, bias=True)\n",
      "    (2): Linear(in_features=10, out_features=2, bias=True)\n",
      "  )\n",
      ")\n"
     ]
    }
   ],
   "source": [
    "print(model)"
   ]
  },
  {
   "cell_type": "code",
   "execution_count": 214,
   "metadata": {},
   "outputs": [
    {
     "name": "stdout",
     "output_type": "stream",
     "text": [
      "Epoch 0, Loss 0.14079\n",
      "Epoch 25, Loss 0.04842\n",
      "Epoch 50, Loss 0.02884\n",
      "Epoch 75, Loss 0.00343\n",
      "Epoch 100, Loss 0.00066\n",
      "Epoch 125, Loss 0.00020\n"
     ]
    }
   ],
   "source": [
    "epochs = 150\n",
    "\n",
    "for i in range(epochs):\n",
    "    model.train()\n",
    "    optimizer.zero_grad()\n",
    "    \n",
    "    predict = model.forward(train_x_tensor)\n",
    "#     print(predict.shape)\n",
    "#     print(train_y_tensor.view([-1,2]).shape)\n",
    "    loss = criterion(predict, train_y_tensor.view([-1,2]))\n",
    "    loss.backward()\n",
    "    optimizer.step()\n",
    "    \n",
    "    if i%25 == 0:\n",
    "        print('Epoch {}, Loss {:.5f}'.format(i, loss.item()))\n",
    "        \n",
    "        "
   ]
  },
  {
   "cell_type": "code",
   "execution_count": 217,
   "metadata": {},
   "outputs": [
    {
     "name": "stdout",
     "output_type": "stream",
     "text": [
      "(10, 2)\n"
     ]
    },
    {
     "data": {
      "image/png": "[encoded data removed]",
      "text/plain": [
       "<Figure size 432x288 with 1 Axes>"
      ]
     },
     "metadata": {
      "needs_background": "light"
     },
     "output_type": "display_data"
    }
   ],
   "source": [
    "import matplotlib.pyplot as plt\n",
    "model.eval()\n",
    "\n",
    "with torch.no_grad():\n",
    "    predict_data = model.forward(test_x_tensor).data.numpy()\n",
    "    predict_unnorm = scaler.inverse_transform(predict_data)\n",
    "    print(predict_unnorm.shape)\n",
    "    test_y_new = test_y_tensor.view(-1,2).data.numpy()\n",
    "    test_y_new = scaler.inverse_transform(test_y_new)\n",
    "    plt.plot(test_y_new[:,0], test_y_new[:,1])\n",
    "    plt.plot(predict_unnorm[:,0], predict_unnorm[:,1], color='red')\n",
    "    plt.legend(['original', 'prediction'])\n",
    "#     plt.plot(xy[:,0], xy[:,1])\n",
    "\n"
   ]
  },
  {
   "cell_type": "code",
   "execution_count": null,
   "metadata": {},
   "outputs": [],
   "source": []
  },
  {
   "cell_type": "code",
   "execution_count": null,
   "metadata": {},
   "outputs": [],
   "source": []
  }
 ],
 "metadata": {
  "kernelspec": {
   "display_name": "Python 3",
   "language": "python",
   "name": "python3"
  },
  "language_info": {
   "codemirror_mode": {
    "name": "ipython",
    "version": 3
   },
   "file_extension": ".py",
   "mimetype": "text/x-python",
   "name": "python",
   "nbconvert_exporter": "python",
   "pygments_lexer": "ipython3",
   "version": "3.7.9"
  }
 },
 "nbformat": 4,
 "nbformat_minor": 4
}
