{
 "cells": [
  {
   "cell_type": "code",
   "execution_count": 12,
   "metadata": {},
   "outputs": [],
   "source": [
    "import torch\n",
    "import torch.optim as optim\n",
    "import numpy as np\n",
    "import matplotlib.pyplot as plt\n",
    "from sklearn.preprocessing import MinMaxScaler"
   ]
  },
  {
   "cell_type": "code",
   "execution_count": 13,
   "metadata": {},
   "outputs": [],
   "source": [
    "seq_len = 7\n",
    "data_dim = 5\n",
    "hidden_dim = 30\n",
    "output_dim = 1\n",
    "learning_rate = 0.001\n",
    "\n",
    "epochs = 150"
   ]
  },
  {
   "cell_type": "code",
   "execution_count": 14,
   "metadata": {},
   "outputs": [],
   "source": [
    "xy = np.loadtxt(\"data-02-stock_daily.csv\", delimiter=\",\")"
   ]
  },
  {
   "cell_type": "code",
   "execution_count": 39,
   "metadata": {},
   "outputs": [],
   "source": [
    "xy = xy[::-1]\n",
    "# plt.plot(xy)\n",
    "# plt.show()"
   ]
  },
  {
   "cell_type": "code",
   "execution_count": 40,
   "metadata": {},
   "outputs": [
    {
     "name": "stdout",
     "output_type": "stream",
     "text": [
      "[[   568.00257     568.00257     552.922516  13100.          558.462551]\n",
      " [   561.202549    566.43259     558.672539  41200.          559.992565]\n",
      " [   566.892592    567.002574    556.932537  10800.          556.972503]\n",
      " [   558.712504    568.452595    558.712504   7900.          567.162558]\n",
      " [   599.992707    604.832763    562.192568 147100.          567.002574]]\n"
     ]
    }
   ],
   "source": [
    "train_size = int(len(xy) * 0.7)\n",
    "train_set = xy[0:train_size]\n",
    "test_set = xy[train_size-seq_len : ]\n",
    "\n",
    "train_set.shape, test_set.shape\n",
    "\n",
    "print(train_set[:5])"
   ]
  },
  {
   "cell_type": "code",
   "execution_count": 50,
   "metadata": {},
   "outputs": [
    {
     "data": {
      "text/plain": [
       "(512, 5)"
      ]
     },
     "execution_count": 50,
     "metadata": {},
     "output_type": "execute_result"
    }
   ],
   "source": [
    "scaler = MinMaxScaler()\n",
    "scaler.fit(train_set)\n",
    "train_set = scaler.transform(train_set)\n",
    "\n",
    "train_set.shape"
   ]
  },
  {
   "cell_type": "code",
   "execution_count": 42,
   "metadata": {},
   "outputs": [],
   "source": [
    "scaler.fit(test_set)\n",
    "test_set = scaler.transform(test_set)\n"
   ]
  },
  {
   "cell_type": "code",
   "execution_count": 43,
   "metadata": {},
   "outputs": [],
   "source": [
    "def build_dataset(time_series, seq_len):\n",
    "    dataX = []\n",
    "    dataY = []\n",
    "    \n",
    "    for i in range(len(time_series)-seq_len):\n",
    "        _x = time_series[i:i+seq_len, :]\n",
    "        _y = time_series[i+seq_len, [-1]]\n",
    "        \n",
    "        dataX.append(_x)\n",
    "        dataY.append(_y)\n",
    "    return np.array(dataX), np.array(dataY)"
   ]
  },
  {
   "cell_type": "code",
   "execution_count": 44,
   "metadata": {},
   "outputs": [
    {
     "name": "stdout",
     "output_type": "stream",
     "text": [
      "train_x.shape : (505, 7, 5)\n",
      "train_y.shape : (505, 1)\n"
     ]
    }
   ],
   "source": [
    "train_x, train_y = build_dataset(train_set, seq_len)\n",
    "test_x, test_y = build_dataset(test_set, seq_len)\n",
    "\n",
    "print(\"train_x.shape : {}\".format(train_x.shape))\n",
    "print(\"train_y.shape : {}\".format(train_y.shape))"
   ]
  },
  {
   "cell_type": "code",
   "execution_count": 45,
   "metadata": {},
   "outputs": [],
   "source": [
    "train_x_tensor = torch.FloatTensor(train_x)\n",
    "train_y_tensor = torch.FloatTensor(train_y)\n",
    "\n",
    "test_x_tensor = torch.FloatTensor(test_x)\n",
    "test_y_tensor = torch.FloatTensor(test_y)"
   ]
  },
  {
   "cell_type": "code",
   "execution_count": 46,
   "metadata": {},
   "outputs": [],
   "source": [
    "class LSTM(torch.nn.Module):\n",
    "    def __init__(self, input_dim, hidden_dim, output_dim, layers):\n",
    "        super(LSTM,self).__init__()\n",
    "        \n",
    "        self.lstm = torch.nn.LSTM(input_dim, hidden_dim, num_layers=layers, batch_first=True, bidirectional=True)\n",
    "        self.layers = torch.nn.Sequential(\n",
    "            torch.nn.Linear(hidden_dim*2, 20),\n",
    "            torch.nn.Linear(20, 10),\n",
    "            torch.nn.Linear(10,output_dim)\n",
    "        )\n",
    "    \n",
    "    def forward(self, x):\n",
    "        x, (hidden, cell) = self.lstm(x)\n",
    "        x = self.layers(x[:, -1, ])\n",
    "        return x"
   ]
  },
  {
   "cell_type": "code",
   "execution_count": 47,
   "metadata": {},
   "outputs": [],
   "source": [
    "model = LSTM(data_dim, hidden_dim, output_dim, 4)\n",
    "\n",
    "criterion = torch.nn.MSELoss()\n",
    "optimizer = optim.Adam(model.parameters(), lr=learning_rate)"
   ]
  },
  {
   "cell_type": "code",
   "execution_count": 48,
   "metadata": {},
   "outputs": [
    {
     "name": "stdout",
     "output_type": "stream",
     "text": [
      "Epoch 0, Loss 0.09718\n",
      "Epoch 25, Loss 0.04778\n",
      "Epoch 50, Loss 0.00673\n",
      "Epoch 75, Loss 0.00421\n",
      "Epoch 100, Loss 0.00351\n",
      "Epoch 125, Loss 0.00309\n"
     ]
    }
   ],
   "source": [
    "for i in range(epochs):\n",
    "    model.train()\n",
    "    optimizer.zero_grad()\n",
    "    \n",
    "    outputs = model(train_x_tensor)\n",
    "    loss = criterion(outputs, train_y_tensor)\n",
    "    \n",
    "    loss.backward()\n",
    "    optimizer.step()\n",
    "    \n",
    "    if i%25 == 0:\n",
    "        print('Epoch {}, Loss {:.5f}'.format(i, loss.item()))"
   ]
  },
  {
   "cell_type": "code",
   "execution_count": 49,
   "metadata": {},
   "outputs": [
    {
     "data": {
      "image/png": "[encoded data removed]",
      "text/plain": [
       "<Figure size 432x288 with 1 Axes>"
      ]
     },
     "metadata": {
      "needs_background": "light"
     },
     "output_type": "display_data"
    }
   ],
   "source": [
    "model.eval()\n",
    "\n",
    "with torch.no_grad():\n",
    "    predict_data = model(test_x_tensor).data.numpy()\n",
    "    plt.grid(True)\n",
    "    plt.autoscale(axis='x', tight=True)\n",
    "    plt.plot(test_y)\n",
    "    plt.plot(predict_data, color='red')\n",
    "    plt.legend(['original', 'prediction'])\n",
    "    plt.show()"
   ]
  },
  {
   "cell_type": "code",
   "execution_count": null,
   "metadata": {},
   "outputs": [],
   "source": []
  }
 ],
 "metadata": {
  "kernelspec": {
   "display_name": "Python 3",
   "language": "python",
   "name": "python3"
  },
  "language_info": {
   "codemirror_mode": {
    "name": "ipython",
    "version": 3
   },
   "file_extension": ".py",
   "mimetype": "text/x-python",
   "name": "python",
   "nbconvert_exporter": "python",
   "pygments_lexer": "ipython3",
   "version": "3.7.9"
  }
 },
 "nbformat": 4,
 "nbformat_minor": 4
}
