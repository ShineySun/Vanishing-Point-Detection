{
 "cells": [
  {
   "cell_type": "code",
   "execution_count": 43,
   "metadata": {},
   "outputs": [],
   "source": [
    "import torch\n",
    "import torch.nn as nn\n",
    "import seaborn as sns\n",
    "import numpy as np\n",
    "import pandas as pd\n",
    "import matplotlib.pyplot as plt"
   ]
  },
  {
   "cell_type": "code",
   "execution_count": 44,
   "metadata": {},
   "outputs": [
    {
     "data": {
      "text/plain": [
       "['anagrams',\n",
       " 'anscombe',\n",
       " 'attention',\n",
       " 'brain_networks',\n",
       " 'car_crashes',\n",
       " 'diamonds',\n",
       " 'dots',\n",
       " 'exercise',\n",
       " 'flights',\n",
       " 'fmri',\n",
       " 'gammas',\n",
       " 'geyser',\n",
       " 'iris',\n",
       " 'mpg',\n",
       " 'penguins',\n",
       " 'planets',\n",
       " 'tips',\n",
       " 'titanic']"
      ]
     },
     "execution_count": 44,
     "metadata": {},
     "output_type": "execute_result"
    }
   ],
   "source": [
    "sns.get_dataset_names()"
   ]
  },
  {
   "cell_type": "code",
   "execution_count": 45,
   "metadata": {},
   "outputs": [
    {
     "data": {
      "text/html": [
       "<div>\n",
       "<style scoped>\n",
       "    .dataframe tbody tr th:only-of-type {\n",
       "        vertical-align: middle;\n",
       "    }\n",
       "\n",
       "    .dataframe tbody tr th {\n",
       "        vertical-align: top;\n",
       "    }\n",
       "\n",
       "    .dataframe thead th {\n",
       "        text-align: right;\n",
       "    }\n",
       "</style>\n",
       "<table border=\"1\" class=\"dataframe\">\n",
       "  <thead>\n",
       "    <tr style=\"text-align: right;\">\n",
       "      <th></th>\n",
       "      <th>year</th>\n",
       "      <th>month</th>\n",
       "      <th>passengers</th>\n",
       "    </tr>\n",
       "  </thead>\n",
       "  <tbody>\n",
       "    <tr>\n",
       "      <th>0</th>\n",
       "      <td>1949</td>\n",
       "      <td>Jan</td>\n",
       "      <td>112</td>\n",
       "    </tr>\n",
       "    <tr>\n",
       "      <th>1</th>\n",
       "      <td>1949</td>\n",
       "      <td>Feb</td>\n",
       "      <td>118</td>\n",
       "    </tr>\n",
       "    <tr>\n",
       "      <th>2</th>\n",
       "      <td>1949</td>\n",
       "      <td>Mar</td>\n",
       "      <td>132</td>\n",
       "    </tr>\n",
       "    <tr>\n",
       "      <th>3</th>\n",
       "      <td>1949</td>\n",
       "      <td>Apr</td>\n",
       "      <td>129</td>\n",
       "    </tr>\n",
       "    <tr>\n",
       "      <th>4</th>\n",
       "      <td>1949</td>\n",
       "      <td>May</td>\n",
       "      <td>121</td>\n",
       "    </tr>\n",
       "  </tbody>\n",
       "</table>\n",
       "</div>"
      ],
      "text/plain": [
       "   year month  passengers\n",
       "0  1949   Jan         112\n",
       "1  1949   Feb         118\n",
       "2  1949   Mar         132\n",
       "3  1949   Apr         129\n",
       "4  1949   May         121"
      ]
     },
     "execution_count": 45,
     "metadata": {},
     "output_type": "execute_result"
    }
   ],
   "source": [
    "df = sns.load_dataset('flights')\n",
    "df.head()"
   ]
  },
  {
   "cell_type": "code",
   "execution_count": 46,
   "metadata": {},
   "outputs": [],
   "source": [
    "data = df['passengers'].values.astype(float)\n",
    "\n",
    "valid_data_size = 24\n",
    "\n",
    "train_data = data[:-valid_data_size]\n",
    "test_data = data[-valid_data_size : ]"
   ]
  },
  {
   "cell_type": "code",
   "execution_count": 47,
   "metadata": {},
   "outputs": [],
   "source": [
    "from sklearn.preprocessing import MinMaxScaler\n",
    "\n",
    "scaler = MinMaxScaler()\n",
    "train_data_norm = scaler.fit_transform(train_data.reshape(-1,1))"
   ]
  },
  {
   "cell_type": "code",
   "execution_count": 59,
   "metadata": {},
   "outputs": [],
   "source": [
    "seq_len = 12\n",
    "\n",
    "def make_sequence(input_data, seq):\n",
    "    train_x = []\n",
    "    train_y = []\n",
    "    L = len(input_data)\n",
    "    \n",
    "    for i in range(L-seq):\n",
    "        train_seq = input_data[i:i+seq]\n",
    "        train_label = input_data[i+seq : i+seq+1]\n",
    "        train_x.append(train_seq)\n",
    "        train_y.append(train_label)\n",
    "    return train_x, train_y\n"
   ]
  },
  {
   "cell_type": "code",
   "execution_count": 49,
   "metadata": {},
   "outputs": [],
   "source": [
    "train_x, train_y = make_sequence(train_data_norm, seq_len)\n",
    "\n",
    "train_x = torch.Tensor(train_x)\n",
    "train_y = torch.Tensor(train_y)"
   ]
  },
  {
   "cell_type": "code",
   "execution_count": 50,
   "metadata": {},
   "outputs": [
    {
     "data": {
      "text/plain": [
       "(torch.Size([114, 6, 1]), torch.Size([114, 1, 1]))"
      ]
     },
     "execution_count": 50,
     "metadata": {},
     "output_type": "execute_result"
    }
   ],
   "source": [
    "train_x.size(), train_y.size()"
   ]
  },
  {
   "cell_type": "code",
   "execution_count": 51,
   "metadata": {},
   "outputs": [],
   "source": [
    "# input size : the number of features in the input\n",
    "# hidden_layer_size : the number of hidden layers\n",
    "# output_size : the number of items in the output\n",
    "\n",
    "class LSTM_VER2(nn.Module):\n",
    "    def __init__(self, input_size = 1, hidden_layer_size = 4, output_size = 1):\n",
    "        super().__init__()\n",
    "        self.input_size = input_size\n",
    "        self.hidden_layer_size = hidden_layer_size\n",
    "        \n",
    "        self.lstm = nn.LSTM(input_size, hidden_layer_size, num_layer=4)\n",
    "        \n",
    "        # self.linear = nn.Linear(hidden_layer_size, output_size)\n",
    "        self.linear = nn.Sequential(\n",
    "            nn.Linear(self.hidden_layer_size, 50),\n",
    "            nn.Linear(50, 30),\n",
    "            nn.Linear(30, 10),\n",
    "            nn.Linear(10, 1)\n",
    "        )\n",
    "        \n",
    "        # contain previous hidden state, previous cell state\n",
    "        self.hidden_cell = (torch.zeros(1,1,self.hidden_layer_size), \n",
    "                            torch.zeros(1,1, self.hidden_layer_size))\n",
    "        \n",
    "    def forward(self, input_seq):\n",
    "        lstm_out, self.hidden_cell = self.lstm(input_seq.view(len(input_seq) , 1, -1), self.hidden_cell)\n",
    "        \n",
    "#         predictions = self.linear(lstm_out.view(len(input_seq), -1))\n",
    "        \n",
    "        return self.linear(lstm_out[:,-1,:])\n",
    "    \n",
    "class RNN(nn.Module):\n",
    "    \n",
    "    def __init__(self):\n",
    "        super().__init__()\n",
    "        self.input_vector = 1\n",
    "        self.sequence_length = 12\n",
    "        self.output_vector = 100\n",
    "        self.num_layers = 4\n",
    "        \n",
    "        self.lstm = nn.LSTM(input_size=self.input_vector, hidden_size=self.output_vector, num_layers=self.num_layers, batch_first=True)\n",
    "        self.linear = nn.Sequential(\n",
    "            nn.Linear(self.output_vector, 50),\n",
    "            nn.Linear(50, 30),\n",
    "            nn.Linear(30, 10),\n",
    "            nn.Linear(10,1)\n",
    "        )\n",
    "        \n",
    "    def forward(self, x):\n",
    "        output, _ = self.lstm(x) #(hidden, cell) 데이터는 사용하지 않음\n",
    "        return self.linear(output[:,-1,:])\n",
    "model = RNN()"
   ]
  },
  {
   "cell_type": "code",
   "execution_count": 52,
   "metadata": {},
   "outputs": [],
   "source": [
    "#model = LSTM_VER2()\n",
    "model1 = RNN()"
   ]
  },
  {
   "cell_type": "code",
   "execution_count": 53,
   "metadata": {},
   "outputs": [],
   "source": [
    "optimizer = torch.optim.Adam(model.parameters(), lr=0.001)\n",
    "criterion = nn.MSELoss()"
   ]
  },
  {
   "cell_type": "code",
   "execution_count": 54,
   "metadata": {},
   "outputs": [
    {
     "name": "stdout",
     "output_type": "stream",
     "text": [
      "Epoch 0, Loss 0.12835\n",
      "Epoch 25, Loss 0.05333\n",
      "Epoch 50, Loss 0.03836\n",
      "Epoch 75, Loss 0.01763\n",
      "Epoch 100, Loss 0.01604\n",
      "Epoch 125, Loss 0.01501\n",
      "Epoch 150, Loss 0.01224\n",
      "Epoch 175, Loss 0.00868\n"
     ]
    }
   ],
   "source": [
    "epochs = 200\n",
    "\n",
    "# for i in range(epochs):\n",
    "#     model.train()\n",
    "    \n",
    "#     optimizer.zero_grad()\n",
    "    \n",
    "#     output = model(train_x)\n",
    "    \n",
    "#     loss = criterion(output, train_y.view(-1,1))\n",
    "    \n",
    "#     loss.backward()\n",
    "#     optimizer.step()\n",
    "    \n",
    "#     if i%25 == 1:\n",
    "#         print(f'epoch: {i:3} loss: {single_loss.item():10.8f}')\n",
    "for i in range(epochs):\n",
    "    model.train()\n",
    "    \n",
    "    output = model(train_x)\n",
    "    loss = criterion(output, train_y.view(-1,1))\n",
    "    \n",
    "    optimizer.zero_grad()\n",
    "    loss.backward()\n",
    "    optimizer.step()\n",
    "    \n",
    "    if i%25 == 0:\n",
    "        print('Epoch {}, Loss {:.5f}'.format(i, loss.item()))\n",
    "    \n",
    "    \n",
    "    "
   ]
  },
  {
   "cell_type": "code",
   "execution_count": 55,
   "metadata": {},
   "outputs": [],
   "source": [
    "valid_data_norm = train_data_norm[-valid_data_size:]\n",
    "valid_x, _ = make_sequence(valid_data_norm, seq_len)"
   ]
  },
  {
   "cell_type": "code",
   "execution_count": 56,
   "metadata": {},
   "outputs": [],
   "source": [
    "model.eval()\n",
    "\n",
    "with torch.no_grad():\n",
    "    valid_tensor = torch.Tensor(valid_x)\n",
    "    predict = model(valid_tensor)\n",
    "\n",
    "predict = predict.data.numpy()\n",
    "actual_predictions = scaler.inverse_transform(predict)\n"
   ]
  },
  {
   "cell_type": "code",
   "execution_count": 58,
   "metadata": {},
   "outputs": [
    {
     "data": {
      "image/png": "[encoded data removed]",
      "text/plain": [
       "<Figure size 432x288 with 1 Axes>"
      ]
     },
     "metadata": {
      "needs_background": "light"
     },
     "output_type": "display_data"
    }
   ],
   "source": [
    "x = np.arange(120,132,1)\n",
    "plt.title('Month vs Passenger')\n",
    "plt.ylabel('Total Passengers')\n",
    "plt.grid(True)\n",
    "plt.autoscale(axis='x', tight=True)\n",
    "plt.plot(df['passengers'][0:132])\n",
    "plt.plot(x,actual_predictions)\n",
    "plt.show()"
   ]
  },
  {
   "cell_type": "code",
   "execution_count": null,
   "metadata": {},
   "outputs": [],
   "source": []
  }
 ],
 "metadata": {
  "kernelspec": {
   "display_name": "Python 3",
   "language": "python",
   "name": "python3"
  },
  "language_info": {
   "codemirror_mode": {
    "name": "ipython",
    "version": 3
   },
   "file_extension": ".py",
   "mimetype": "text/x-python",
   "name": "python",
   "nbconvert_exporter": "python",
   "pygments_lexer": "ipython3",
   "version": "3.7.9"
  }
 },
 "nbformat": 4,
 "nbformat_minor": 4
}
