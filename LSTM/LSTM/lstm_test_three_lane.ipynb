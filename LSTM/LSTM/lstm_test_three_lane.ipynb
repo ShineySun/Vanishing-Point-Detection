{
 "cells": [
  {
   "cell_type": "code",
   "execution_count": 1,
   "metadata": {},
   "outputs": [],
   "source": [
    "import json\n",
    "import matplotlib.pyplot as plt\n",
    "# Tusimple Dataset Management Tool\n",
    "class Tusimple_Manager(object):\n",
    "    # initialize\n",
    "    def __init__(self, root_dir = '/home/sun/tusimple'):\n",
    "        # train data root path\n",
    "        self.train_path = root_dir + '/train_set/'\n",
    "        # test data root path\n",
    "        self.test_path = root_dir + '/test_set/'\n",
    "        # train data annotation files\n",
    "        self.train_label_files = ['label_data_0313.json' , 'label_data_0531.json' , 'label_data_0601.json']\n",
    "        # test data annotation files\n",
    "        self.test_label_files = ['test_label.json']\n",
    "\n",
    "        # train annotation data\n",
    "        self.train_data = []\n",
    "        # train data size\n",
    "        self.train_size = 0\n",
    "        # test annotation data\n",
    "        self.test_data = []\n",
    "        # test data size\n",
    "        self.test_size = 0\n",
    "\n",
    "        # number of train_instance 1\n",
    "        self.train_instance_1 = []\n",
    "        # number of train_instance 2\n",
    "        self.train_instance_2 = []\n",
    "        # number of train_instance 3\n",
    "        self.train_instance_3 = []\n",
    "        # number of train_instance 4\n",
    "        self.train_instance_4 = []\n",
    "        # number of train_instance 5\n",
    "        self.train_instance_5 = []\n",
    "        # number of train_instance 6\n",
    "        self.train_instance_6 = []\n",
    "\n",
    "\n",
    "        # number of test_instance 1\n",
    "        self.test_instance_1 = []\n",
    "        # number of test_instance 2\n",
    "        self.test_instance_2 = []\n",
    "        # number of test_instance 3\n",
    "        self.test_instance_3 = []\n",
    "        # number of test_instance 4\n",
    "        self.test_instance_4 = []\n",
    "        # number of test_instance 5\n",
    "        self.test_instance_5 = []\n",
    "        # number of test_instance 6\n",
    "        self.test_instance_6 = []\n",
    "\n",
    "    # load the data\n",
    "    def tusimple_load_from_json(self):\n",
    "        # train data load\n",
    "        print(\"* Train Data Load Start\")\n",
    "        for idx, label_file in enumerate(self.train_label_files):\n",
    "            # print(\"* {} : {} Load Start\".format(idx, label_file))\n",
    "\n",
    "            with open(self.train_path + label_file) as f:\n",
    "                for line in f.readlines():\n",
    "                    json_line = json.loads(line)\n",
    "                    self.train_data.append(json_line)\n",
    "\n",
    "            # print(\"* {} : {} Load Finish\".format(idx, label_file))\n",
    "        self.train_size = len(self.train_data)\n",
    "\n",
    "        print(\"* Train Data Load Finish\")\n",
    "\n",
    "        # test data load\n",
    "        print(\"* Test Data Load Start\")\n",
    "\n",
    "        for idx, label_file in enumerate(self.test_label_files):\n",
    "            # print(\"* {} : {} Load Start\".format(idx, label_file))\n",
    "\n",
    "            with open(self.test_path + label_file) as f:\n",
    "                for line in f.readlines():\n",
    "                    json_line = json.loads(line)\n",
    "                    self.test_data.append(json_line)\n",
    "\n",
    "        self.test_size = len(self.test_data)\n",
    "\n",
    "        print(\"* Test Data Load Finish\")\n",
    "\n",
    "    # split according to the number of instances\n",
    "    def tusimple_split_instance(self):\n",
    "        print(\"**-----------------------------------------------**\")\n",
    "        print(\"* Train Data Split Start\")\n",
    "        # train data split\n",
    "        for idx,instance in enumerate(self.train_data):\n",
    "            if len(instance['lanes']) == 1:\n",
    "                self.train_instance_1.append(instance)\n",
    "            elif len(instance['lanes']) == 2:\n",
    "                self.train_instance_2.append(instance)\n",
    "            elif len(instance['lanes']) == 3:\n",
    "                self.train_instance_3.append(instance)\n",
    "            elif len(instance['lanes']) == 4:\n",
    "                self.train_instance_4.append(instance)\n",
    "            elif len(instance['lanes']) == 5:\n",
    "                self.train_instance_5.append(instance)\n",
    "            elif len(instance['lanes']) == 6:\n",
    "                self.train_instance_6.append(instance)\n",
    "\n",
    "\n",
    "        print(\"num_train_instance_1 : {}\".format(len(self.train_instance_1)))\n",
    "        print(\"num_train_instance_2 : {}\".format(len(self.train_instance_2)))\n",
    "        print(\"num_train_instance_3 : {}\".format(len(self.train_instance_3)))\n",
    "        print(\"num_train_instance_4 : {}\".format(len(self.train_instance_4)))\n",
    "        print(\"num_train_instance_5 : {}\".format(len(self.train_instance_5)))\n",
    "        print(\"num_train_instance_6 : {}\".format(len(self.train_instance_6)))\n",
    "\n",
    "\n",
    "        print(\"* Train Data Split Finish\")\n",
    "        print(\"**-----------------------------------------------**\")\n",
    "\n",
    "        print(\"* Test Data Split Start\")\n",
    "\n",
    "        # test data split\n",
    "        for idx,instance in enumerate(self.test_data):\n",
    "            if len(instance['lanes']) == 1:\n",
    "                self.test_instance_1.append(instance)\n",
    "            elif len(instance['lanes']) == 2:\n",
    "                self.test_instance_2.append(instance)\n",
    "            elif len(instance['lanes']) == 3:\n",
    "                self.test_instance_3.append(instance)\n",
    "            elif len(instance['lanes']) == 4:\n",
    "                self.test_instance_4.append(instance)\n",
    "            elif len(instance['lanes']) == 5:\n",
    "                self.test_instance_5.append(instance)\n",
    "            elif len(instance['lanes']) == 6:\n",
    "                self.test_instance_6.append(instance)\n",
    "\n",
    "        print(\"num_test_instance_1 : {}\".format(len(self.test_instance_1)))\n",
    "        print(\"num_test_instance_2 : {}\".format(len(self.test_instance_2)))\n",
    "        print(\"num_test_instance_3 : {}\".format(len(self.test_instance_3)))\n",
    "        print(\"num_test_instance_4 : {}\".format(len(self.test_instance_4)))\n",
    "        print(\"num_test_instance_5 : {}\".format(len(self.test_instance_5)))\n",
    "        print(\"num_test_instance_6 : {}\".format(len(self.test_instance_6)))\n",
    "\n",
    "        print(\"* Test Data Split Finish\")\n",
    "\n",
    "        print(\"**-----------------------------------------------**\")\n",
    "\n"
   ]
  },
  {
   "cell_type": "code",
   "execution_count": 2,
   "metadata": {},
   "outputs": [],
   "source": [
    "tusimple_manager = Tusimple_Manager()"
   ]
  },
  {
   "cell_type": "code",
   "execution_count": 3,
   "metadata": {},
   "outputs": [
    {
     "name": "stdout",
     "output_type": "stream",
     "text": [
      "* Train Data Load Start\n",
      "* Train Data Load Finish\n",
      "* Test Data Load Start\n",
      "* Test Data Load Finish\n"
     ]
    }
   ],
   "source": [
    "tusimple_manager.tusimple_load_from_json()"
   ]
  },
  {
   "cell_type": "code",
   "execution_count": 4,
   "metadata": {},
   "outputs": [
    {
     "name": "stdout",
     "output_type": "stream",
     "text": [
      "**-----------------------------------------------**\n",
      "* Train Data Split Start\n",
      "num_train_instance_1 : 0\n",
      "num_train_instance_2 : 1\n",
      "num_train_instance_3 : 404\n",
      "num_train_instance_4 : 2982\n",
      "num_train_instance_5 : 239\n",
      "num_train_instance_6 : 0\n",
      "* Train Data Split Finish\n",
      "**-----------------------------------------------**\n",
      "* Test Data Split Start\n",
      "num_test_instance_1 : 0\n",
      "num_test_instance_2 : 5\n",
      "num_test_instance_3 : 1740\n",
      "num_test_instance_4 : 468\n",
      "num_test_instance_5 : 569\n",
      "num_test_instance_6 : 0\n",
      "* Test Data Split Finish\n",
      "**-----------------------------------------------**\n"
     ]
    }
   ],
   "source": [
    "tusimple_manager.tusimple_split_instance()"
   ]
  },
  {
   "cell_type": "code",
   "execution_count": 5,
   "metadata": {},
   "outputs": [],
   "source": [
    "data = tusimple_manager.train_instance_5[0]"
   ]
  },
  {
   "cell_type": "code",
   "execution_count": 6,
   "metadata": {},
   "outputs": [],
   "source": [
    "import numpy as np\n",
    "\n",
    "datas = []\n",
    "\n",
    "for lane_idx, lane_x_points in enumerate(data['lanes'],0):\n",
    "    curve_vertices = list(filter(lambda xy_pair : xy_pair[0] > 0, zip(lane_x_points, data['h_samples'])))\n",
    "    curve_vertices = np.array(curve_vertices, dtype=np.float)\n",
    "    datas.append(np.flip(curve_vertices, axis=0))"
   ]
  },
  {
   "cell_type": "code",
   "execution_count": 7,
   "metadata": {},
   "outputs": [
    {
     "data": {
      "text/plain": [
       "<matplotlib.legend.Legend at 0x7fc5587bc110>"
      ]
     },
     "execution_count": 7,
     "metadata": {},
     "output_type": "execute_result"
    },
    {
     "data": {
      "image/png": "[encoded data removed]",
      "text/plain": [
       "<Figure size 432x288 with 1 Axes>"
      ]
     },
     "metadata": {
      "needs_background": "light"
     },
     "output_type": "display_data"
    }
   ],
   "source": [
    "for data in datas:\n",
    "    plt.plot(data[:, 0], data[:, 1])\n",
    "\n",
    "plt.legend([\"lane_1\", \"lane_2\"])"
   ]
  },
  {
   "cell_type": "code",
   "execution_count": 8,
   "metadata": {},
   "outputs": [
    {
     "name": "stdout",
     "output_type": "stream",
     "text": [
      "[array([[ 27., 430.],\n",
      "       [ 56., 420.],\n",
      "       [ 85., 410.],\n",
      "       [115., 400.],\n",
      "       [144., 390.],\n",
      "       [173., 380.],\n",
      "       [202., 370.],\n",
      "       [231., 360.],\n",
      "       [260., 350.],\n",
      "       [289., 340.],\n",
      "       [319., 330.],\n",
      "       [348., 320.],\n",
      "       [377., 310.],\n",
      "       [406., 300.],\n",
      "       [435., 290.],\n",
      "       [464., 280.],\n",
      "       [488., 270.],\n",
      "       [509., 260.],\n",
      "       [530., 250.],\n",
      "       [552., 240.]]), array([[178., 710.],\n",
      "       [187., 700.],\n",
      "       [197., 690.],\n",
      "       [207., 680.],\n",
      "       [217., 670.],\n",
      "       [226., 660.],\n",
      "       [236., 650.],\n",
      "       [246., 640.],\n",
      "       [256., 630.],\n",
      "       [265., 620.],\n",
      "       [275., 610.],\n",
      "       [285., 600.],\n",
      "       [295., 590.],\n",
      "       [304., 580.],\n",
      "       [314., 570.],\n",
      "       [324., 560.],\n",
      "       [334., 550.],\n",
      "       [343., 540.],\n",
      "       [353., 530.],\n",
      "       [363., 520.],\n",
      "       [373., 510.],\n",
      "       [382., 500.],\n",
      "       [392., 490.],\n",
      "       [402., 480.],\n",
      "       [412., 470.],\n",
      "       [421., 460.],\n",
      "       [431., 450.],\n",
      "       [441., 440.],\n",
      "       [451., 430.],\n",
      "       [460., 420.],\n",
      "       [470., 410.],\n",
      "       [480., 400.],\n",
      "       [490., 390.],\n",
      "       [499., 380.],\n",
      "       [509., 370.],\n",
      "       [519., 360.],\n",
      "       [529., 350.],\n",
      "       [538., 340.],\n",
      "       [548., 330.],\n",
      "       [558., 320.],\n",
      "       [568., 310.],\n",
      "       [577., 300.],\n",
      "       [587., 290.],\n",
      "       [597., 280.],\n",
      "       [604., 270.],\n",
      "       [609., 260.],\n",
      "       [614., 250.],\n",
      "       [618., 240.]]), array([[1226.,  710.],\n",
      "       [1214.,  700.],\n",
      "       [1202.,  690.],\n",
      "       [1191.,  680.],\n",
      "       [1179.,  670.],\n",
      "       [1168.,  660.],\n",
      "       [1156.,  650.],\n",
      "       [1144.,  640.],\n",
      "       [1133.,  630.],\n",
      "       [1121.,  620.],\n",
      "       [1110.,  610.],\n",
      "       [1098.,  600.],\n",
      "       [1086.,  590.],\n",
      "       [1075.,  580.],\n",
      "       [1063.,  570.],\n",
      "       [1052.,  560.],\n",
      "       [1040.,  550.],\n",
      "       [1028.,  540.],\n",
      "       [1017.,  530.],\n",
      "       [1005.,  520.],\n",
      "       [ 994.,  510.],\n",
      "       [ 982.,  500.],\n",
      "       [ 970.,  490.],\n",
      "       [ 959.,  480.],\n",
      "       [ 947.,  470.],\n",
      "       [ 936.,  460.],\n",
      "       [ 924.,  450.],\n",
      "       [ 912.,  440.],\n",
      "       [ 901.,  430.],\n",
      "       [ 889.,  420.],\n",
      "       [ 878.,  410.],\n",
      "       [ 866.,  400.],\n",
      "       [ 854.,  390.],\n",
      "       [ 843.,  380.],\n",
      "       [ 831.,  370.],\n",
      "       [ 820.,  360.],\n",
      "       [ 808.,  350.],\n",
      "       [ 796.,  340.],\n",
      "       [ 785.,  330.],\n",
      "       [ 773.,  320.],\n",
      "       [ 762.,  310.],\n",
      "       [ 750.,  300.],\n",
      "       [ 738.,  290.],\n",
      "       [ 727.,  280.],\n",
      "       [ 715.,  270.],\n",
      "       [ 704.,  260.]]), array([[1255.,  410.],\n",
      "       [1225.,  400.],\n",
      "       [1196.,  390.],\n",
      "       [1166.,  380.],\n",
      "       [1137.,  370.],\n",
      "       [1107.,  360.],\n",
      "       [1077.,  350.],\n",
      "       [1048.,  340.],\n",
      "       [1018.,  330.],\n",
      "       [ 988.,  320.],\n",
      "       [ 959.,  310.],\n",
      "       [ 929.,  300.],\n",
      "       [ 900.,  290.],\n",
      "       [ 870.,  280.]]), array([[1266.,  330.],\n",
      "       [1212.,  320.],\n",
      "       [1158.,  310.],\n",
      "       [1105.,  300.],\n",
      "       [1051.,  290.],\n",
      "       [ 997.,  280.],\n",
      "       [ 943.,  270.],\n",
      "       [ 890.,  260.]])]\n"
     ]
    }
   ],
   "source": [
    "print(datas)"
   ]
  },
  {
   "cell_type": "code",
   "execution_count": 9,
   "metadata": {},
   "outputs": [
    {
     "name": "stdout",
     "output_type": "stream",
     "text": [
      "[[0.02109375 0.59722222]\n",
      " [0.04375    0.58333333]\n",
      " [0.06640625 0.56944444]\n",
      " [0.08984375 0.55555556]\n",
      " [0.1125     0.54166667]\n",
      " [0.13515625 0.52777778]\n",
      " [0.1578125  0.51388889]\n",
      " [0.18046875 0.5       ]\n",
      " [0.203125   0.48611111]\n",
      " [0.22578125 0.47222222]\n",
      " [0.24921875 0.45833333]\n",
      " [0.271875   0.44444444]\n",
      " [0.29453125 0.43055556]\n",
      " [0.3171875  0.41666667]\n",
      " [0.33984375 0.40277778]\n",
      " [0.3625     0.38888889]\n",
      " [0.38125    0.375     ]\n",
      " [0.39765625 0.36111111]\n",
      " [0.4140625  0.34722222]\n",
      " [0.43125    0.33333333]]\n",
      "[[0.1390625  0.98611111]\n",
      " [0.14609375 0.97222222]\n",
      " [0.15390625 0.95833333]\n",
      " [0.16171875 0.94444444]\n",
      " [0.16953125 0.93055556]\n",
      " [0.1765625  0.91666667]\n",
      " [0.184375   0.90277778]\n",
      " [0.1921875  0.88888889]\n",
      " [0.2        0.875     ]\n",
      " [0.20703125 0.86111111]\n",
      " [0.21484375 0.84722222]\n",
      " [0.22265625 0.83333333]\n",
      " [0.23046875 0.81944444]\n",
      " [0.2375     0.80555556]\n",
      " [0.2453125  0.79166667]\n",
      " [0.253125   0.77777778]\n",
      " [0.2609375  0.76388889]\n",
      " [0.26796875 0.75      ]\n",
      " [0.27578125 0.73611111]\n",
      " [0.28359375 0.72222222]\n",
      " [0.29140625 0.70833333]\n",
      " [0.2984375  0.69444444]\n",
      " [0.30625    0.68055556]\n",
      " [0.3140625  0.66666667]\n",
      " [0.321875   0.65277778]\n",
      " [0.32890625 0.63888889]\n",
      " [0.33671875 0.625     ]\n",
      " [0.34453125 0.61111111]\n",
      " [0.35234375 0.59722222]\n",
      " [0.359375   0.58333333]\n",
      " [0.3671875  0.56944444]\n",
      " [0.375      0.55555556]\n",
      " [0.3828125  0.54166667]\n",
      " [0.38984375 0.52777778]\n",
      " [0.39765625 0.51388889]\n",
      " [0.40546875 0.5       ]\n",
      " [0.41328125 0.48611111]\n",
      " [0.4203125  0.47222222]\n",
      " [0.428125   0.45833333]\n",
      " [0.4359375  0.44444444]\n",
      " [0.44375    0.43055556]\n",
      " [0.45078125 0.41666667]\n",
      " [0.45859375 0.40277778]\n",
      " [0.46640625 0.38888889]\n",
      " [0.471875   0.375     ]\n",
      " [0.47578125 0.36111111]\n",
      " [0.4796875  0.34722222]\n",
      " [0.4828125  0.33333333]]\n",
      "[[0.9578125  0.98611111]\n",
      " [0.9484375  0.97222222]\n",
      " [0.9390625  0.95833333]\n",
      " [0.93046875 0.94444444]\n",
      " [0.92109375 0.93055556]\n",
      " [0.9125     0.91666667]\n",
      " [0.903125   0.90277778]\n",
      " [0.89375    0.88888889]\n",
      " [0.88515625 0.875     ]\n",
      " [0.87578125 0.86111111]\n",
      " [0.8671875  0.84722222]\n",
      " [0.8578125  0.83333333]\n",
      " [0.8484375  0.81944444]\n",
      " [0.83984375 0.80555556]\n",
      " [0.83046875 0.79166667]\n",
      " [0.821875   0.77777778]\n",
      " [0.8125     0.76388889]\n",
      " [0.803125   0.75      ]\n",
      " [0.79453125 0.73611111]\n",
      " [0.78515625 0.72222222]\n",
      " [0.7765625  0.70833333]\n",
      " [0.7671875  0.69444444]\n",
      " [0.7578125  0.68055556]\n",
      " [0.74921875 0.66666667]\n",
      " [0.73984375 0.65277778]\n",
      " [0.73125    0.63888889]\n",
      " [0.721875   0.625     ]\n",
      " [0.7125     0.61111111]\n",
      " [0.70390625 0.59722222]\n",
      " [0.69453125 0.58333333]\n",
      " [0.6859375  0.56944444]\n",
      " [0.6765625  0.55555556]\n",
      " [0.6671875  0.54166667]\n",
      " [0.65859375 0.52777778]\n",
      " [0.64921875 0.51388889]\n",
      " [0.640625   0.5       ]\n",
      " [0.63125    0.48611111]\n",
      " [0.621875   0.47222222]\n",
      " [0.61328125 0.45833333]\n",
      " [0.60390625 0.44444444]\n",
      " [0.5953125  0.43055556]\n",
      " [0.5859375  0.41666667]\n",
      " [0.5765625  0.40277778]\n",
      " [0.56796875 0.38888889]\n",
      " [0.55859375 0.375     ]\n",
      " [0.55       0.36111111]]\n",
      "[[0.98046875 0.56944444]\n",
      " [0.95703125 0.55555556]\n",
      " [0.934375   0.54166667]\n",
      " [0.9109375  0.52777778]\n",
      " [0.88828125 0.51388889]\n",
      " [0.86484375 0.5       ]\n",
      " [0.84140625 0.48611111]\n",
      " [0.81875    0.47222222]\n",
      " [0.7953125  0.45833333]\n",
      " [0.771875   0.44444444]\n",
      " [0.74921875 0.43055556]\n",
      " [0.72578125 0.41666667]\n",
      " [0.703125   0.40277778]\n",
      " [0.6796875  0.38888889]]\n",
      "[[0.9890625  0.45833333]\n",
      " [0.946875   0.44444444]\n",
      " [0.9046875  0.43055556]\n",
      " [0.86328125 0.41666667]\n",
      " [0.82109375 0.40277778]\n",
      " [0.77890625 0.38888889]\n",
      " [0.73671875 0.375     ]\n",
      " [0.6953125  0.36111111]]\n"
     ]
    },
    {
     "data": {
      "image/png": "[encoded data removed]",
      "text/plain": [
       "<Figure size 432x288 with 1 Axes>"
      ]
     },
     "metadata": {
      "needs_background": "light"
     },
     "output_type": "display_data"
    }
   ],
   "source": [
    "for data in datas:\n",
    "    data[:, 0] = data[:, 0]/1280.0\n",
    "    data[:, 1] = data[:, 1]/720.0\n",
    "    \n",
    "    print(data)\n",
    "    \n",
    "    plt.plot(data[:, 0], data[:, 1])"
   ]
  },
  {
   "cell_type": "code",
   "execution_count": 10,
   "metadata": {},
   "outputs": [
    {
     "data": {
      "text/plain": [
       "([18, 43, 41, 12, 7], [2, 5, 5, 2, 1])"
      ]
     },
     "execution_count": 10,
     "metadata": {},
     "output_type": "execute_result"
    }
   ],
   "source": [
    "train_sizes = []\n",
    "test_sizes = []\n",
    "\n",
    "for data in datas:\n",
    "    train_size = int(len(data)*0.90)\n",
    "    test_size = len(data) - train_size\n",
    "    \n",
    "    train_sizes.append(train_size)\n",
    "    test_sizes.append(test_size)\n",
    "\n",
    "train_sizes, test_sizes"
   ]
  },
  {
   "cell_type": "code",
   "execution_count": 11,
   "metadata": {},
   "outputs": [
    {
     "name": "stdout",
     "output_type": "stream",
     "text": [
      "18\n",
      "8\n",
      "43\n",
      "11\n",
      "41\n",
      "11\n",
      "12\n",
      "8\n",
      "7\n",
      "7\n"
     ]
    },
    {
     "data": {
      "image/png": "[encoded data removed]",
      "text/plain": [
       "<Figure size 432x288 with 1 Axes>"
      ]
     },
     "metadata": {
      "needs_background": "light"
     },
     "output_type": "display_data"
    }
   ],
   "source": [
    "seq_len = 6\n",
    "\n",
    "train_sets = []\n",
    "test_sets = []\n",
    "\n",
    "for idx, data in enumerate(datas):\n",
    "    train_set = data[:train_sizes[idx]]\n",
    "    print(len(train_set))\n",
    "    test_set = data[train_sizes[idx]-seq_len:]\n",
    "    print(len(test_set))\n",
    "    \n",
    "    train_sets.append(train_set)\n",
    "    test_sets.append(test_set)\n",
    "    \n",
    "    plt.plot(train_set[:,0], train_set[:,1])\n",
    "    plt.plot(test_set[:,0], test_set[:,1])\n",
    "    \n",
    "plt.show()"
   ]
  },
  {
   "cell_type": "code",
   "execution_count": 12,
   "metadata": {},
   "outputs": [],
   "source": [
    "def make_sequence(norm_data, seq_len):\n",
    "    inout_seq = []\n",
    "    L = len(norm_data)\n",
    "    \n",
    "    data_x = []\n",
    "    data_y = []\n",
    "    \n",
    "    for i in range(L-seq_len):\n",
    "        train_seq = norm_data[i:i+seq_len]\n",
    "        test_label = norm_data[i+seq_len:i+seq_len+1]\n",
    "        \n",
    "        data_x.append(train_seq)\n",
    "        data_y.append(test_label)\n",
    "    \n",
    "    return np.array(data_x), np.array(data_y)"
   ]
  },
  {
   "cell_type": "code",
   "execution_count": 13,
   "metadata": {},
   "outputs": [
    {
     "data": {
      "image/png": "[encoded data removed]",
      "text/plain": [
       "<Figure size 432x288 with 1 Axes>"
      ]
     },
     "metadata": {
      "needs_background": "light"
     },
     "output_type": "display_data"
    }
   ],
   "source": [
    "train_x_s = []\n",
    "train_y_s = []\n",
    "\n",
    "test_x_s = []\n",
    "test_y_s = []\n",
    "\n",
    "for train_set in train_sets:\n",
    "    train_x, train_y = make_sequence(train_set, seq_len)\n",
    "    train_x_s.append(train_x)\n",
    "    train_y_s.append(train_y)\n",
    "\n",
    "for test_set in test_sets:\n",
    "    test_x, test_y = make_sequence(test_set, seq_len)\n",
    "    test_x_s.append(test_x)\n",
    "    test_y_s.append(test_y)\n",
    "    \n",
    "for train_x in train_x_s:\n",
    "    for tr_x in train_x:\n",
    "        plt.plot(tr_x[:,0], tr_x[:, 1])\n",
    "    "
   ]
  },
  {
   "cell_type": "code",
   "execution_count": 14,
   "metadata": {},
   "outputs": [
    {
     "data": {
      "image/png": "[encoded data removed]",
      "text/plain": [
       "<Figure size 432x288 with 1 Axes>"
      ]
     },
     "metadata": {
      "needs_background": "light"
     },
     "output_type": "display_data"
    }
   ],
   "source": [
    "\n",
    "        \n",
    "for test_x in test_x_s:\n",
    "    for ts_x in test_x:\n",
    "        plt.plot(ts_x[:,0], ts_x[:, 1])"
   ]
  },
  {
   "cell_type": "code",
   "execution_count": 15,
   "metadata": {},
   "outputs": [],
   "source": [
    "import torch\n",
    "import torch.nn as nn\n",
    "from torch.autograd import Variable\n",
    "\n",
    "train_x_tensors = []\n",
    "train_y_tensors = []\n",
    "\n",
    "test_x_tensors = []\n",
    "test_y_tensors = []\n",
    "\n",
    "for train_x in train_x_s:\n",
    "    train_x_tensors.append(Variable(torch.Tensor(train_x)))\n",
    "\n",
    "for train_y in train_y_s:\n",
    "    train_y_tensors.append(Variable(torch.Tensor(train_y)))\n",
    "\n",
    "for test_x in test_x_s:\n",
    "    test_x_tensors.append(Variable(torch.Tensor(test_x)))\n",
    "#     print(torch.Tensor(test_x).shape)\n",
    "    \n",
    "for test_y in test_y_s:\n",
    "    test_y_tensors.append(Variable(torch.Tensor(test_y)))"
   ]
  },
  {
   "cell_type": "code",
   "execution_count": 16,
   "metadata": {},
   "outputs": [],
   "source": [
    "class LSTM(nn.Module):\n",
    "    def __init__(self, num_classes=2, input_size=2, hidden_size=50, num_layers =2 ,output_size = 2 ):\n",
    "        super(LSTM,self).__init__()\n",
    "        \n",
    "        self.num_classes = num_classes\n",
    "        self.num_layers = num_layers\n",
    "        self.input_size = input_size\n",
    "        self.hidden_size = hidden_size\n",
    "        self.output_size = output_size\n",
    "        \n",
    "        self.lstm = nn.LSTM(input_size = input_size, hidden_size=hidden_size,num_layers = num_layers, batch_first = True)\n",
    "        self.layers = nn.Sequential(\n",
    "            nn.Linear(hidden_size, 60),\n",
    "            nn.Linear(60,30),\n",
    "            nn.Linear(30, output_size)\n",
    "        )\n",
    "        self.relu = nn.ReLU()\n",
    "        \n",
    "    def forward(self, x):\n",
    "        h_0 = Variable(torch.zeros(self.num_layers, x.size(0), self.hidden_size))\n",
    "        c_0 = Variable(torch.zeros(self.num_layers, x.size(0), self.hidden_size))\n",
    "        \n",
    "        x, (hidden, cell) = self.lstm(x, (h_0, c_0))\n",
    "        x = self.relu(x)\n",
    "        x = self.layers(x[:,-1,])\n",
    "        return x"
   ]
  },
  {
   "cell_type": "code",
   "execution_count": 17,
   "metadata": {},
   "outputs": [],
   "source": [
    "model = LSTM()\n",
    "\n",
    "criterion = torch.nn.MSELoss()\n",
    "optimizer = torch.optim.Adam(model.parameters(), lr=0.001)"
   ]
  },
  {
   "cell_type": "code",
   "execution_count": 18,
   "metadata": {},
   "outputs": [
    {
     "name": "stdout",
     "output_type": "stream",
     "text": [
      "LSTM(\n",
      "  (lstm): LSTM(2, 50, num_layers=2, batch_first=True)\n",
      "  (layers): Sequential(\n",
      "    (0): Linear(in_features=50, out_features=60, bias=True)\n",
      "    (1): Linear(in_features=60, out_features=30, bias=True)\n",
      "    (2): Linear(in_features=30, out_features=2, bias=True)\n",
      "  )\n",
      "  (relu): ReLU()\n",
      ")\n"
     ]
    }
   ],
   "source": [
    "print(model)"
   ]
  },
  {
   "cell_type": "code",
   "execution_count": 19,
   "metadata": {},
   "outputs": [
    {
     "name": "stdout",
     "output_type": "stream",
     "text": [
      "Epoch 0, Loss 0.29536\n",
      "Epoch 25, Loss 0.01184\n",
      "Epoch 50, Loss 0.00406\n",
      "Epoch 75, Loss 0.00013\n",
      "Epoch 100, Loss 0.00042\n",
      "Epoch 125, Loss 0.00021\n"
     ]
    }
   ],
   "source": [
    "epochs = 150\n",
    "\n",
    "for epoch in range(epochs):\n",
    "    model.train()\n",
    "    \n",
    "    avg_loss = 0\n",
    "    \n",
    "    for idx, (train_x_tensor, train_y_tensor) in enumerate(zip(train_x_tensors, train_y_tensors)):\n",
    "        optimizer.zero_grad()\n",
    "        \n",
    "        predict = model.forward(train_x_tensor)\n",
    "        \n",
    "        loss = criterion(predict, train_y_tensor.view([-1,2]))\n",
    "        loss.backward()\n",
    "        \n",
    "#         if epoch%25:\n",
    "#             print('Epoch {}, Loss {:.5f}'.format(epoch, loss.item()))\n",
    "        \n",
    "        \n",
    "        avg_loss = (avg_loss * idx + loss.item()) / (idx + 1)\n",
    "        \n",
    "        optimizer.step()\n",
    "    \n",
    "    if epoch%25 == 0:\n",
    "        print('Epoch {}, Loss {:.5f}'.format(epoch, avg_loss))\n",
    "        \n",
    "    "
   ]
  },
  {
   "cell_type": "code",
   "execution_count": 20,
   "metadata": {},
   "outputs": [
    {
     "name": "stdout",
     "output_type": "stream",
     "text": [
      "(2, 2)\n",
      "(5, 2)\n",
      "(5, 2)\n",
      "(2, 2)\n",
      "(1, 2)\n"
     ]
    },
    {
     "data": {
      "image/png": "[encoded data removed]",
      "text/plain": [
       "<Figure size 432x288 with 1 Axes>"
      ]
     },
     "metadata": {
      "needs_background": "light"
     },
     "output_type": "display_data"
    }
   ],
   "source": [
    "model.eval()\n",
    "\n",
    "with torch.no_grad():\n",
    "    for idx, (test_x_tensor, test_y_tensor) in enumerate(zip(test_x_tensors, test_y_tensors)):\n",
    "        predict = model.forward(test_x_tensor).data.numpy()\n",
    "        print(predict.shape)\n",
    "        \n",
    "        test_x_tensor = test_x_tensor.view(-1,2).data.numpy()\n",
    "        test_y_tensor = test_y_tensor.view(-1,2).data.numpy()\n",
    "        \n",
    "        # test x plot\n",
    "        plt.plot(test_x_tensor[:, 0]*1280,test_x_tensor[:, 1]*720, '--', label='lane' + str(idx))\n",
    "#         print(test_x_tensor[:, 0]*1280,test_x_tensor[:, 1]*720)\n",
    "        # test y plot\n",
    "        plt.plot(test_y_tensor[:, 0]*1280,test_y_tensor[:, 1]*720, '*', label = 'gt point' + str(idx))\n",
    "        # prediction plot\n",
    "        plt.plot(predict[:,0]*1280 , predict[:, 1]*720, 'o', label = 'prediction_point'+ str(idx))\n",
    "#         plt.legend()"
   ]
  },
  {
   "cell_type": "code",
   "execution_count": null,
   "metadata": {},
   "outputs": [],
   "source": []
  }
 ],
 "metadata": {
  "kernelspec": {
   "display_name": "Python 3",
   "language": "python",
   "name": "python3"
  },
  "language_info": {
   "codemirror_mode": {
    "name": "ipython",
    "version": 3
   },
   "file_extension": ".py",
   "mimetype": "text/x-python",
   "name": "python",
   "nbconvert_exporter": "python",
   "pygments_lexer": "ipython3",
   "version": "3.7.9"
  }
 },
 "nbformat": 4,
 "nbformat_minor": 4
}
