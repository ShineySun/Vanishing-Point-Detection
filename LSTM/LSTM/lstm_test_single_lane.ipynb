{
 "cells": [
  {
   "cell_type": "code",
   "execution_count": 1,
   "metadata": {},
   "outputs": [],
   "source": [
    "import json\n",
    "import matplotlib.pyplot as plt\n",
    "# Tusimple Dataset Management Tool\n",
    "class Tusimple_Manager(object):\n",
    "    # initialize\n",
    "    def __init__(self, root_dir = '/home/sun/tusimple'):\n",
    "        # train data root path\n",
    "        self.train_path = root_dir + '/train_set/'\n",
    "        # test data root path\n",
    "        self.test_path = root_dir + '/test_set/'\n",
    "        # train data annotation files\n",
    "        self.train_label_files = ['label_data_0313.json' , 'label_data_0531.json' , 'label_data_0601.json']\n",
    "        # test data annotation files\n",
    "        self.test_label_files = ['test_label.json']\n",
    "\n",
    "        # train annotation data\n",
    "        self.train_data = []\n",
    "        # train data size\n",
    "        self.train_size = 0\n",
    "        # test annotation data\n",
    "        self.test_data = []\n",
    "        # test data size\n",
    "        self.test_size = 0\n",
    "\n",
    "        # number of train_instance 1\n",
    "        self.train_instance_1 = []\n",
    "        # number of train_instance 2\n",
    "        self.train_instance_2 = []\n",
    "        # number of train_instance 3\n",
    "        self.train_instance_3 = []\n",
    "        # number of train_instance 4\n",
    "        self.train_instance_4 = []\n",
    "        # number of train_instance 5\n",
    "        self.train_instance_5 = []\n",
    "        # number of train_instance 6\n",
    "        self.train_instance_6 = []\n",
    "\n",
    "\n",
    "        # number of test_instance 1\n",
    "        self.test_instance_1 = []\n",
    "        # number of test_instance 2\n",
    "        self.test_instance_2 = []\n",
    "        # number of test_instance 3\n",
    "        self.test_instance_3 = []\n",
    "        # number of test_instance 4\n",
    "        self.test_instance_4 = []\n",
    "        # number of test_instance 5\n",
    "        self.test_instance_5 = []\n",
    "        # number of test_instance 6\n",
    "        self.test_instance_6 = []\n",
    "\n",
    "    # load the data\n",
    "    def tusimple_load_from_json(self):\n",
    "        # train data load\n",
    "        print(\"* Train Data Load Start\")\n",
    "        for idx, label_file in enumerate(self.train_label_files):\n",
    "            # print(\"* {} : {} Load Start\".format(idx, label_file))\n",
    "\n",
    "            with open(self.train_path + label_file) as f:\n",
    "                for line in f.readlines():\n",
    "                    json_line = json.loads(line)\n",
    "                    self.train_data.append(json_line)\n",
    "\n",
    "            # print(\"* {} : {} Load Finish\".format(idx, label_file))\n",
    "        self.train_size = len(self.train_data)\n",
    "\n",
    "        print(\"* Train Data Load Finish\")\n",
    "\n",
    "        # test data load\n",
    "        print(\"* Test Data Load Start\")\n",
    "\n",
    "        for idx, label_file in enumerate(self.test_label_files):\n",
    "            # print(\"* {} : {} Load Start\".format(idx, label_file))\n",
    "\n",
    "            with open(self.test_path + label_file) as f:\n",
    "                for line in f.readlines():\n",
    "                    json_line = json.loads(line)\n",
    "                    self.test_data.append(json_line)\n",
    "\n",
    "        self.test_size = len(self.test_data)\n",
    "\n",
    "        print(\"* Test Data Load Finish\")\n",
    "\n",
    "    # split according to the number of instances\n",
    "    def tusimple_split_instance(self):\n",
    "        print(\"**-----------------------------------------------**\")\n",
    "        print(\"* Train Data Split Start\")\n",
    "        # train data split\n",
    "        for idx,instance in enumerate(self.train_data):\n",
    "            if len(instance['lanes']) == 1:\n",
    "                self.train_instance_1.append(instance)\n",
    "            elif len(instance['lanes']) == 2:\n",
    "                self.train_instance_2.append(instance)\n",
    "            elif len(instance['lanes']) == 3:\n",
    "                self.train_instance_3.append(instance)\n",
    "            elif len(instance['lanes']) == 4:\n",
    "                self.train_instance_4.append(instance)\n",
    "            elif len(instance['lanes']) == 5:\n",
    "                self.train_instance_5.append(instance)\n",
    "            elif len(instance['lanes']) == 6:\n",
    "                self.train_instance_6.append(instance)\n",
    "\n",
    "\n",
    "        print(\"num_train_instance_1 : {}\".format(len(self.train_instance_1)))\n",
    "        print(\"num_train_instance_2 : {}\".format(len(self.train_instance_2)))\n",
    "        print(\"num_train_instance_3 : {}\".format(len(self.train_instance_3)))\n",
    "        print(\"num_train_instance_4 : {}\".format(len(self.train_instance_4)))\n",
    "        print(\"num_train_instance_5 : {}\".format(len(self.train_instance_5)))\n",
    "        print(\"num_train_instance_6 : {}\".format(len(self.train_instance_6)))\n",
    "\n",
    "\n",
    "        print(\"* Train Data Split Finish\")\n",
    "        print(\"**-----------------------------------------------**\")\n",
    "\n",
    "        print(\"* Test Data Split Start\")\n",
    "\n",
    "        # test data split\n",
    "        for idx,instance in enumerate(self.test_data):\n",
    "            if len(instance['lanes']) == 1:\n",
    "                self.test_instance_1.append(instance)\n",
    "            elif len(instance['lanes']) == 2:\n",
    "                self.test_instance_2.append(instance)\n",
    "            elif len(instance['lanes']) == 3:\n",
    "                self.test_instance_3.append(instance)\n",
    "            elif len(instance['lanes']) == 4:\n",
    "                self.test_instance_4.append(instance)\n",
    "            elif len(instance['lanes']) == 5:\n",
    "                self.test_instance_5.append(instance)\n",
    "            elif len(instance['lanes']) == 6:\n",
    "                self.test_instance_6.append(instance)\n",
    "\n",
    "        print(\"num_test_instance_1 : {}\".format(len(self.test_instance_1)))\n",
    "        print(\"num_test_instance_2 : {}\".format(len(self.test_instance_2)))\n",
    "        print(\"num_test_instance_3 : {}\".format(len(self.test_instance_3)))\n",
    "        print(\"num_test_instance_4 : {}\".format(len(self.test_instance_4)))\n",
    "        print(\"num_test_instance_5 : {}\".format(len(self.test_instance_5)))\n",
    "        print(\"num_test_instance_6 : {}\".format(len(self.test_instance_6)))\n",
    "\n",
    "        print(\"* Test Data Split Finish\")\n",
    "\n",
    "        print(\"**-----------------------------------------------**\")\n",
    "\n"
   ]
  },
  {
   "cell_type": "code",
   "execution_count": 2,
   "metadata": {},
   "outputs": [],
   "source": [
    "tusimple_manager = Tusimple_Manager()"
   ]
  },
  {
   "cell_type": "code",
   "execution_count": 3,
   "metadata": {},
   "outputs": [
    {
     "name": "stdout",
     "output_type": "stream",
     "text": [
      "* Train Data Load Start\n",
      "* Train Data Load Finish\n",
      "* Test Data Load Start\n",
      "* Test Data Load Finish\n"
     ]
    }
   ],
   "source": [
    "tusimple_manager.tusimple_load_from_json()"
   ]
  },
  {
   "cell_type": "code",
   "execution_count": 4,
   "metadata": {},
   "outputs": [
    {
     "name": "stdout",
     "output_type": "stream",
     "text": [
      "**-----------------------------------------------**\n",
      "* Train Data Split Start\n",
      "num_train_instance_1 : 0\n",
      "num_train_instance_2 : 1\n",
      "num_train_instance_3 : 404\n",
      "num_train_instance_4 : 2982\n",
      "num_train_instance_5 : 239\n",
      "num_train_instance_6 : 0\n",
      "* Train Data Split Finish\n",
      "**-----------------------------------------------**\n",
      "* Test Data Split Start\n",
      "num_test_instance_1 : 0\n",
      "num_test_instance_2 : 5\n",
      "num_test_instance_3 : 1740\n",
      "num_test_instance_4 : 468\n",
      "num_test_instance_5 : 569\n",
      "num_test_instance_6 : 0\n",
      "* Test Data Split Finish\n",
      "**-----------------------------------------------**\n"
     ]
    }
   ],
   "source": [
    "tusimple_manager.tusimple_split_instance()"
   ]
  },
  {
   "cell_type": "code",
   "execution_count": 5,
   "metadata": {},
   "outputs": [],
   "source": [
    "data = tusimple_manager.train_instance_2[0]"
   ]
  },
  {
   "cell_type": "code",
   "execution_count": 6,
   "metadata": {},
   "outputs": [
    {
     "data": {
      "text/plain": [
       "{'lanes': [[-2,\n",
       "   -2,\n",
       "   -2,\n",
       "   -2,\n",
       "   -2,\n",
       "   -2,\n",
       "   -2,\n",
       "   802,\n",
       "   748,\n",
       "   713,\n",
       "   688,\n",
       "   663,\n",
       "   639,\n",
       "   620,\n",
       "   600,\n",
       "   580,\n",
       "   560,\n",
       "   541,\n",
       "   521,\n",
       "   503,\n",
       "   488,\n",
       "   474,\n",
       "   459,\n",
       "   444,\n",
       "   429,\n",
       "   414,\n",
       "   399,\n",
       "   384,\n",
       "   369,\n",
       "   354,\n",
       "   339,\n",
       "   324,\n",
       "   309,\n",
       "   294,\n",
       "   279,\n",
       "   264,\n",
       "   250,\n",
       "   235,\n",
       "   220,\n",
       "   205,\n",
       "   190,\n",
       "   175,\n",
       "   160,\n",
       "   145,\n",
       "   130,\n",
       "   115,\n",
       "   100,\n",
       "   85,\n",
       "   70,\n",
       "   55,\n",
       "   40,\n",
       "   26,\n",
       "   11,\n",
       "   -2,\n",
       "   -2,\n",
       "   -2],\n",
       "  [-2,\n",
       "   -2,\n",
       "   -2,\n",
       "   -2,\n",
       "   -2,\n",
       "   -2,\n",
       "   -2,\n",
       "   -2,\n",
       "   841,\n",
       "   814,\n",
       "   808,\n",
       "   801,\n",
       "   795,\n",
       "   798,\n",
       "   801,\n",
       "   804,\n",
       "   807,\n",
       "   810,\n",
       "   814,\n",
       "   820,\n",
       "   826,\n",
       "   832,\n",
       "   839,\n",
       "   845,\n",
       "   852,\n",
       "   860,\n",
       "   868,\n",
       "   876,\n",
       "   884,\n",
       "   892,\n",
       "   900,\n",
       "   908,\n",
       "   915,\n",
       "   923,\n",
       "   931,\n",
       "   939,\n",
       "   947,\n",
       "   955,\n",
       "   963,\n",
       "   970,\n",
       "   978,\n",
       "   986,\n",
       "   994,\n",
       "   1002,\n",
       "   1010,\n",
       "   1018,\n",
       "   1026,\n",
       "   1033,\n",
       "   1041,\n",
       "   1049,\n",
       "   1057,\n",
       "   1065,\n",
       "   1073,\n",
       "   1081,\n",
       "   1088,\n",
       "   1096]],\n",
       " 'h_samples': [160,\n",
       "  170,\n",
       "  180,\n",
       "  190,\n",
       "  200,\n",
       "  210,\n",
       "  220,\n",
       "  230,\n",
       "  240,\n",
       "  250,\n",
       "  260,\n",
       "  270,\n",
       "  280,\n",
       "  290,\n",
       "  300,\n",
       "  310,\n",
       "  320,\n",
       "  330,\n",
       "  340,\n",
       "  350,\n",
       "  360,\n",
       "  370,\n",
       "  380,\n",
       "  390,\n",
       "  400,\n",
       "  410,\n",
       "  420,\n",
       "  430,\n",
       "  440,\n",
       "  450,\n",
       "  460,\n",
       "  470,\n",
       "  480,\n",
       "  490,\n",
       "  500,\n",
       "  510,\n",
       "  520,\n",
       "  530,\n",
       "  540,\n",
       "  550,\n",
       "  560,\n",
       "  570,\n",
       "  580,\n",
       "  590,\n",
       "  600,\n",
       "  610,\n",
       "  620,\n",
       "  630,\n",
       "  640,\n",
       "  650,\n",
       "  660,\n",
       "  670,\n",
       "  680,\n",
       "  690,\n",
       "  700,\n",
       "  710],\n",
       " 'raw_file': 'clips/0531/1492629882697772610/20.jpg'}"
      ]
     },
     "execution_count": 6,
     "metadata": {},
     "output_type": "execute_result"
    }
   ],
   "source": [
    "data"
   ]
  },
  {
   "cell_type": "code",
   "execution_count": 7,
   "metadata": {},
   "outputs": [
    {
     "name": "stdout",
     "output_type": "stream",
     "text": [
      "[(802, 230), (748, 240), (713, 250), (688, 260), (663, 270), (639, 280), (620, 290), (600, 300), (580, 310), (560, 320), (541, 330), (521, 340), (503, 350), (488, 360), (474, 370), (459, 380), (444, 390), (429, 400), (414, 410), (399, 420), (384, 430), (369, 440), (354, 450), (339, 460), (324, 470), (309, 480), (294, 490), (279, 500), (264, 510), (250, 520), (235, 530), (220, 540), (205, 550), (190, 560), (175, 570), (160, 580), (145, 590), (130, 600), (115, 610), (100, 620), (85, 630), (70, 640), (55, 650), (40, 660), (26, 670), (11, 680)]\n"
     ]
    }
   ],
   "source": [
    "import numpy as np\n",
    "\n",
    "datas = []\n",
    "\n",
    "for lane_idx, lane_x_points in enumerate(data['lanes'],0):\n",
    "    curve_vertices = list(filter(lambda xy_pair : xy_pair[0] > 0, zip(lane_x_points, data['h_samples'])))\n",
    "    datas.append(np.array(curve_vertices))\n",
    "    break\n",
    "\n",
    "print(curve_vertices)"
   ]
  },
  {
   "cell_type": "code",
   "execution_count": 8,
   "metadata": {},
   "outputs": [],
   "source": [
    "xy = np.array(curve_vertices, dtype=np.float)\n",
    "# plt.plot(xy[:,0], xy[:,1])"
   ]
  },
  {
   "cell_type": "code",
   "execution_count": 9,
   "metadata": {},
   "outputs": [],
   "source": [
    "# flip data\n",
    "xy_flip = np.flip(xy, axis=0)\n",
    "\n",
    "test_xy_flip = xy_flip\n",
    "\n",
    "from sklearn.preprocessing import MinMaxScaler\n",
    "\n",
    "scaler = MinMaxScaler()\n",
    "\n",
    "xy_flip = scaler.fit_transform(xy_flip)\n",
    "\n",
    "#print(train_set_norm)"
   ]
  },
  {
   "cell_type": "code",
   "execution_count": 10,
   "metadata": {},
   "outputs": [
    {
     "data": {
      "text/plain": [
       "(array([0.00859375, 0.0203125 , 0.03125   , 0.04296875, 0.0546875 ,\n",
       "        0.06640625, 0.078125  , 0.08984375, 0.1015625 , 0.11328125,\n",
       "        0.125     , 0.13671875, 0.1484375 , 0.16015625, 0.171875  ,\n",
       "        0.18359375, 0.1953125 , 0.20625   , 0.21796875, 0.2296875 ,\n",
       "        0.24140625, 0.253125  , 0.26484375, 0.2765625 , 0.28828125,\n",
       "        0.3       , 0.31171875, 0.3234375 , 0.33515625, 0.346875  ,\n",
       "        0.35859375, 0.3703125 , 0.38125   , 0.39296875, 0.40703125,\n",
       "        0.42265625, 0.4375    , 0.453125  , 0.46875   , 0.484375  ,\n",
       "        0.49921875, 0.51796875, 0.5375    , 0.55703125, 0.584375  ,\n",
       "        0.6265625 ]),\n",
       " array([0.94444444, 0.93055556, 0.91666667, 0.90277778, 0.88888889,\n",
       "        0.875     , 0.86111111, 0.84722222, 0.83333333, 0.81944444,\n",
       "        0.80555556, 0.79166667, 0.77777778, 0.76388889, 0.75      ,\n",
       "        0.73611111, 0.72222222, 0.70833333, 0.69444444, 0.68055556,\n",
       "        0.66666667, 0.65277778, 0.63888889, 0.625     , 0.61111111,\n",
       "        0.59722222, 0.58333333, 0.56944444, 0.55555556, 0.54166667,\n",
       "        0.52777778, 0.51388889, 0.5       , 0.48611111, 0.47222222,\n",
       "        0.45833333, 0.44444444, 0.43055556, 0.41666667, 0.40277778,\n",
       "        0.38888889, 0.375     , 0.36111111, 0.34722222, 0.33333333,\n",
       "        0.31944444]))"
      ]
     },
     "execution_count": 10,
     "metadata": {},
     "output_type": "execute_result"
    }
   ],
   "source": [
    "test_xy_flip[:,0] = test_xy_flip[:,0]/1280.0\n",
    "test_xy_flip[:,1] = test_xy_flip[:,1]/720.0\n",
    "\n",
    "test_xy_flip[:, 0],test_xy_flip[:,1]"
   ]
  },
  {
   "cell_type": "code",
   "execution_count": 11,
   "metadata": {},
   "outputs": [
    {
     "name": "stdout",
     "output_type": "stream",
     "text": [
      "* total len : 46\n",
      "* train size : 43\n",
      "* test size : 3\n"
     ]
    }
   ],
   "source": [
    "train_size = int(len(xy)*0.95)\n",
    "test_size = len(xy) - train_size\n",
    "print(\"* total len : {}\".format(len(xy)))\n",
    "print(\"* train size : {}\".format(train_size))\n",
    "print(\"* test size : {}\".format(test_size))"
   ]
  },
  {
   "cell_type": "code",
   "execution_count": 12,
   "metadata": {},
   "outputs": [
    {
     "name": "stdout",
     "output_type": "stream",
     "text": [
      "* train set shape : (43, 2)\n",
      "* test set shape : (9, 2)\n"
     ]
    },
    {
     "data": {
      "text/plain": [
       "<matplotlib.legend.Legend at 0x7fe0f859aad0>"
      ]
     },
     "execution_count": 12,
     "metadata": {},
     "output_type": "execute_result"
    },
    {
     "data": {
      "image/png": "[encoded data removed]",
      "text/plain": [
       "<Figure size 432x288 with 1 Axes>"
      ]
     },
     "metadata": {
      "needs_background": "light"
     },
     "output_type": "display_data"
    }
   ],
   "source": [
    "seq_len = 6\n",
    "\n",
    "train_set = test_xy_flip[:train_size]\n",
    "test_set = test_xy_flip[train_size-seq_len:]\n",
    "\n",
    "print(\"* train set shape : {}\".format(train_set.shape))\n",
    "print(\"* test set shape : {}\".format(test_set.shape))\n",
    "\n",
    "plt.plot(train_set[:,0]*1280.0, train_set[:,1]*720.0, 'b-*')\n",
    "plt.plot(test_set[:,0]*1280.0, test_set[:,1]*720.0, 'y-o')\n",
    "plt.axvline(570)\n",
    "plt.legend(['train_x', 'test_x'])"
   ]
  },
  {
   "cell_type": "code",
   "execution_count": null,
   "metadata": {},
   "outputs": [],
   "source": []
  },
  {
   "cell_type": "code",
   "execution_count": 13,
   "metadata": {},
   "outputs": [],
   "source": [
    "def make_sequence(input_, seq_len):\n",
    "    inout_seq = []\n",
    "    L = len(input_)\n",
    "    \n",
    "    data_x = []\n",
    "    data_y = []\n",
    "    \n",
    "    for i in range(L-seq_len):\n",
    "        train_seq = input_[i:i+seq_len]\n",
    "        test_label = input_[i+seq_len:i+seq_len+1]\n",
    "        \n",
    "        data_x.append(train_seq)\n",
    "        data_y.append(test_label)\n",
    "        \n",
    "    return np.array(data_x), np.array(data_y)"
   ]
  },
  {
   "cell_type": "code",
   "execution_count": 14,
   "metadata": {},
   "outputs": [],
   "source": [
    "train_x, train_y = make_sequence(train_set, seq_len)\n",
    "test_x, test_y = make_sequence(test_set, seq_len)"
   ]
  },
  {
   "cell_type": "code",
   "execution_count": 15,
   "metadata": {},
   "outputs": [
    {
     "name": "stdout",
     "output_type": "stream",
     "text": [
      "(37, 1, 2)\n",
      "(37, 6, 2)\n"
     ]
    },
    {
     "data": {
      "image/png": "[encoded data removed]",
      "text/plain": [
       "<Figure size 432x288 with 1 Axes>"
      ]
     },
     "metadata": {
      "needs_background": "light"
     },
     "output_type": "display_data"
    }
   ],
   "source": [
    "train_x.shape, train_y.shape\n",
    "\n",
    "print(train_y.shape)\n",
    "print(train_x.shape)\n",
    "\n",
    "for tr_x in train_x:\n",
    "    plt.plot(tr_x[:, 0], tr_x[:, 1])"
   ]
  },
  {
   "cell_type": "code",
   "execution_count": 16,
   "metadata": {},
   "outputs": [],
   "source": [
    "import torch\n",
    "import torch.nn as nn\n",
    "from torch.autograd import Variable\n",
    "\n",
    "train_x_tensor = Variable(torch.Tensor(train_x))\n",
    "train_y_tensor = Variable(torch.Tensor(train_y))\n",
    "\n",
    "test_x_tensor = Variable(torch.Tensor(test_x))\n",
    "test_y_tensor = Variable(torch.Tensor(test_y))"
   ]
  },
  {
   "cell_type": "code",
   "execution_count": 17,
   "metadata": {},
   "outputs": [],
   "source": [
    "class LSTM(nn.Module):\n",
    "    def __init__(self, num_classes=2, input_size=2, hidden_size=50, num_layers =2 ,output_size = 2 ):\n",
    "        super(LSTM,self).__init__()\n",
    "        \n",
    "        self.num_classes = num_classes\n",
    "        self.num_layers = num_layers\n",
    "        self.input_size = input_size\n",
    "        self.hidden_size = hidden_size\n",
    "        self.output_size = output_size\n",
    "        \n",
    "        self.lstm = nn.LSTM(input_size = input_size, hidden_size=hidden_size,num_layers = num_layers, batch_first = True)\n",
    "        self.layers = nn.Sequential(\n",
    "            nn.Linear(hidden_size, 60),\n",
    "            nn.Linear(60,30),\n",
    "            nn.Linear(30, output_size)\n",
    "        )\n",
    "        self.relu = nn.ReLU()\n",
    "        \n",
    "    def forward(self, x):\n",
    "        h_0 = Variable(torch.zeros(self.num_layers, x.size(0), self.hidden_size))\n",
    "        c_0 = Variable(torch.zeros(self.num_layers, x.size(0), self.hidden_size))\n",
    "        \n",
    "        x, (hidden, cell) = self.lstm(x, (h_0, c_0))\n",
    "        x = self.relu(x)\n",
    "        x = self.layers(x[:,-1,])\n",
    "        return x\n",
    "        \n",
    "        \n",
    "        "
   ]
  },
  {
   "cell_type": "code",
   "execution_count": 18,
   "metadata": {},
   "outputs": [],
   "source": [
    "model = LSTM()"
   ]
  },
  {
   "cell_type": "code",
   "execution_count": 19,
   "metadata": {},
   "outputs": [],
   "source": [
    "criterion = torch.nn.MSELoss()\n",
    "optimizer = torch.optim.Adam(model.parameters(), lr=0.001)"
   ]
  },
  {
   "cell_type": "code",
   "execution_count": 20,
   "metadata": {},
   "outputs": [
    {
     "name": "stdout",
     "output_type": "stream",
     "text": [
      "LSTM(\n",
      "  (lstm): LSTM(2, 50, num_layers=2, batch_first=True)\n",
      "  (layers): Sequential(\n",
      "    (0): Linear(in_features=50, out_features=60, bias=True)\n",
      "    (1): Linear(in_features=60, out_features=30, bias=True)\n",
      "    (2): Linear(in_features=30, out_features=2, bias=True)\n",
      "  )\n",
      "  (relu): ReLU()\n",
      ")\n"
     ]
    }
   ],
   "source": [
    "print(model)"
   ]
  },
  {
   "cell_type": "code",
   "execution_count": 21,
   "metadata": {},
   "outputs": [
    {
     "name": "stdout",
     "output_type": "stream",
     "text": [
      "Epoch 0, Loss 0.32394\n",
      "Epoch 25, Loss 0.02585\n",
      "Epoch 50, Loss 0.01992\n",
      "Epoch 75, Loss 0.01823\n",
      "Epoch 100, Loss 0.01537\n",
      "Epoch 125, Loss 0.00411\n"
     ]
    }
   ],
   "source": [
    "epochs = 150\n",
    "\n",
    "for i in range(epochs):\n",
    "    model.train()\n",
    "    optimizer.zero_grad()\n",
    "    \n",
    "    predict = model.forward(train_x_tensor)\n",
    "    x_loss = criterion(predict[:,0], train_y_tensor.view([-1,2])[:,0])\n",
    "    y_loss = criterion(predict[:,1], train_y_tensor.view([-1,2])[:,1])\n",
    "    \n",
    "    loss = x_loss*0.5 + y_loss*0.5\n",
    "#     print(predict.shape)\n",
    "#     print(train_y_tensor.view([-1,2]).shape)\n",
    "#     loss = criterion(predict, train_y_tensor.view([-1,2]))\n",
    "# #     print(predict, ' ',train_y_tensor.view([-1,2]))\n",
    "#     break\n",
    "    loss.backward()\n",
    "    optimizer.step()\n",
    "    \n",
    "    if i%25 == 0:\n",
    "        print('Epoch {}, Loss {:.5f}'.format(i, loss.item()))\n",
    "        \n",
    "        "
   ]
  },
  {
   "cell_type": "code",
   "execution_count": 22,
   "metadata": {},
   "outputs": [
    {
     "name": "stdout",
     "output_type": "stream",
     "text": [
      "predict_data.shape : (3, 2)\n",
      "(37, 2)\n"
     ]
    },
    {
     "data": {
      "image/png": "[encoded data removed]",
      "text/plain": [
       "<Figure size 432x288 with 1 Axes>"
      ]
     },
     "metadata": {
      "needs_background": "light"
     },
     "output_type": "display_data"
    }
   ],
   "source": [
    "\n",
    "model.eval()\n",
    "\n",
    "with torch.no_grad():\n",
    "    predict_data = model.forward(test_x_tensor).data.numpy()\n",
    "    print(\"predict_data.shape : {}\".format(predict_data.shape))\n",
    "    \n",
    "#     for pt in predict_data:\n",
    "#         print(pt[0]*1280, ' ', pt[1]*720)\n",
    "\n",
    "    predict_data_1 = model.forward(train_x_tensor).data.numpy()\n",
    "    print(predict_data_1.shape)\n",
    "\n",
    "\n",
    "    test_y_new = test_y_tensor.view(-1,2).data.numpy()\n",
    "\n",
    "    \n",
    "\n",
    "    test_x_numpy = test_x_tensor.data.numpy()\n",
    "    test_x_numpy[:, 0] = test_x_numpy[:, 0]*1280\n",
    "    test_x_numpy[:, 1] = test_x_numpy[:, 1]*720\n",
    "#     print(test_x_numpy)\n",
    "#     print(test_x_numpy.shape)\n",
    "    \n",
    "    train_x_numpy = train_x_tensor.data.numpy()\n",
    "    \n",
    "    plt.plot(xy[:,0]*1280, xy[:,1]*720, 'y-o')\n",
    "    \n",
    "#     plt.plot(test_x_numpy[:,0]*1280.0, test_x_numpy[:,1]*720.0, 'r-o')\n",
    "    plt.plot(test_y_new[:,0]*1280.0, test_y_new[:,1]*720.0, 'b-*')\n",
    "    plt.plot(predict_data[:,0]*1280.0, predict_data[:,1]*720.0, 'g--o', )\n",
    "    plt.plot(predict_data_1[:,0]*1280.0, predict_data_1[:,1]*720.0, 'm-o')\n",
    "    plt.legend(['train_set', 'test_set', 'prediction_test', 'prediction_train'])\n",
    "    \n",
    "\n"
   ]
  },
  {
   "cell_type": "code",
   "execution_count": null,
   "metadata": {},
   "outputs": [],
   "source": []
  },
  {
   "cell_type": "code",
   "execution_count": null,
   "metadata": {},
   "outputs": [],
   "source": []
  }
 ],
 "metadata": {
  "kernelspec": {
   "display_name": "Python 3",
   "language": "python",
   "name": "python3"
  },
  "language_info": {
   "codemirror_mode": {
    "name": "ipython",
    "version": 3
   },
   "file_extension": ".py",
   "mimetype": "text/x-python",
   "name": "python",
   "nbconvert_exporter": "python",
   "pygments_lexer": "ipython3",
   "version": "3.7.9"
  }
 },
 "nbformat": 4,
 "nbformat_minor": 4
}
